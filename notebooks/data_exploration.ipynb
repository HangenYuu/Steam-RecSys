{
 "cells": [
  {
   "cell_type": "markdown",
   "metadata": {},
   "source": [
    "The objective of the final data pipeline is parsing each column of the CSV file into the correct data type and save the new data as Parquet file."
   ]
  },
  {
   "cell_type": "markdown",
   "metadata": {},
   "source": [
    "# 1. `games_description.csv`\n",
    "\n",
    "The file wraps all columns as a string and have many columns with nested data types. Attempt to parse the data type from the start did not work. It's a challenge to process the column, which I actually welcomed 🤗.\n",
    "\n",
    "Schema:\n",
    "```\n",
    "name: string\n",
    "short_description: string\n",
    "long_description: string\n",
    "genres: object (array[string])\n",
    "minimum_system_requirement: object (struct[string])\n",
    "recommend_system_requirement: object (struct[string])\n",
    "release_date: date\n",
    "developer: object (array[string])\n",
    "publisher: object (array[string])\n",
    "overall_player_rating: categorical\n",
    "number_of_reviews_from_purchased_people: int32\n",
    "number_of_english_reviews: int32\n",
    "link: string\n",
    "```"
   ]
  },
  {
   "cell_type": "code",
   "execution_count": 6,
   "metadata": {},
   "outputs": [
    {
     "data": {
      "text/html": [
       "<div><style>\n",
       ".dataframe > thead > tr,\n",
       ".dataframe > tbody > tr {\n",
       "  text-align: right;\n",
       "  white-space: pre-wrap;\n",
       "}\n",
       "</style>\n",
       "<small>shape: (1, 13)</small><table border=\"1\" class=\"dataframe\"><thead><tr><th>name</th><th>short_description</th><th>long_description</th><th>genres</th><th>minimum_system_requirement</th><th>recommend_system_requirement</th><th>release_date</th><th>developer</th><th>publisher</th><th>overall_player_rating</th><th>number_of_reviews_from_purchased_people</th><th>number_of_english_reviews</th><th>link</th></tr><tr><td>str</td><td>str</td><td>str</td><td>list[str]</td><td>object</td><td>object</td><td>date</td><td>list[str]</td><td>list[str]</td><td>cat</td><td>i32</td><td>i32</td><td>str</td></tr></thead><tbody><tr><td>&quot;Black Myth: Wukong&quot;</td><td>&quot;Black Myth: Wukong is an actio…</td><td>&quot;About This Game\n",
       "\t\t\t\t\t\t\tBlack M…</td><td>[&quot;Mythology&quot;, &quot;Action RPG&quot;, … &quot;Violent&quot;]</td><td>{&#x27;OS&#x27;: &#x27;Windows 10 64-bit&#x27;, &#x27;Processor&#x27;: &#x27;Intel Core i5-8400 / AMD Ryzen 5 1600&#x27;, &#x27;Memory&#x27;: &#x27;16 GB RAM&#x27;, &#x27;Graphics&#x27;: &#x27;NVIDIA GeForce GTX 1060 6GB / AMD Radeon RX 580 8GB&#x27;, &#x27;DirectX&#x27;: &#x27;Version 11&#x27;, &#x27;Storage&#x27;: &#x27;130 GB available space&#x27;, &#x27;Sound Card&#x27;: &#x27;Windows Compatible Audio Device&#x27;, &#x27;Additional Notes&#x27;: &#x27;HDD Supported&#x27;}</td><td>{&#x27;OS&#x27;: &#x27;Windows 10 64-bit&#x27;, &#x27;Processor&#x27;: &#x27;Intel Core i7-9700 / AMD Ryzen 5 5500&#x27;, &#x27;Memory&#x27;: &#x27;16 GB RAM&#x27;, &#x27;Graphics&#x27;: &#x27;NVIDIA GeForce RTX 2060 / AMD Radeon RX 5700 XT / INTEL Arc A750&#x27;, &#x27;DirectX&#x27;: &#x27;Version 12&#x27;, &#x27;Storage&#x27;: &#x27;130 GB available space&#x27;, &#x27;Sound Card&#x27;: &#x27;Windows Compatible Audio Device&#x27;, &#x27;Additional Notes&#x27;: &#x27;SSD Required. The above specifications were tested with DLSS/FSR/XeSS enabled.&#x27;}</td><td>2024-08-19</td><td>[&quot;Game Science&quot;]</td><td>[&quot;Game Science&quot;]</td><td>&quot;Overwhelmingly Positive&quot;</td><td>654820</td><td>51931</td><td>&quot;https://store.steampowered.com…</td></tr></tbody></table></div>"
      ],
      "text/plain": [
       "shape: (1, 13)\n",
       "┌───────────┬───────────┬───────────┬───────────┬───┬───────────┬───────────┬───────────┬──────────┐\n",
       "│ name      ┆ short_des ┆ long_desc ┆ genres    ┆ … ┆ overall_p ┆ number_of ┆ number_of ┆ link     │\n",
       "│ ---       ┆ cription  ┆ ription   ┆ ---       ┆   ┆ layer_rat ┆ _reviews_ ┆ _english_ ┆ ---      │\n",
       "│ str       ┆ ---       ┆ ---       ┆ list[str] ┆   ┆ ing       ┆ from_purc ┆ reviews   ┆ str      │\n",
       "│           ┆ str       ┆ str       ┆           ┆   ┆ ---       ┆ has…      ┆ ---       ┆          │\n",
       "│           ┆           ┆           ┆           ┆   ┆ cat       ┆ ---       ┆ i32       ┆          │\n",
       "│           ┆           ┆           ┆           ┆   ┆           ┆ i32       ┆           ┆          │\n",
       "╞═══════════╪═══════════╪═══════════╪═══════════╪═══╪═══════════╪═══════════╪═══════════╪══════════╡\n",
       "│ Black     ┆ Black     ┆ About     ┆ [\"Mytholo ┆ … ┆ Overwhelm ┆ 654820    ┆ 51931     ┆ https:// │\n",
       "│ Myth:     ┆ Myth:     ┆ This Game ┆ gy\",      ┆   ┆ ingly     ┆           ┆           ┆ store.st │\n",
       "│ Wukong    ┆ Wukong is ┆ \t\t\t\t\t\t\tBl ┆ \"Action   ┆   ┆ Positive  ┆           ┆           ┆ eampower │\n",
       "│           ┆ an actio… ┆ ack M…    ┆ RPG\", … … ┆   ┆           ┆           ┆           ┆ ed.com…  │\n",
       "└───────────┴───────────┴───────────┴───────────┴───┴───────────┴───────────┴───────────┴──────────┘"
      ]
     },
     "execution_count": 6,
     "metadata": {},
     "output_type": "execute_result"
    }
   ],
   "source": [
    "import polars as pl\n",
    "from pathlib import Path\n",
    "import re\n",
    "\n",
    "local_dir = Path(\"/teamspace/studios/this_studio/Steam-RecSys/data_pipeline/data\")\n",
    "\n",
    "\n",
    "def parse_reviews(value):\n",
    "    if \"%\" in value:\n",
    "        # Extract percentage and total number\n",
    "        match = re.search(r\"(\\d+)% of ([\\d,]+)\", value)\n",
    "        if match:\n",
    "            percentage = int(match.group(1))\n",
    "            total = int(match.group(2).replace(\",\", \"\"))\n",
    "            return int((percentage / 100) * total)\n",
    "    else:\n",
    "        # Extract the number directly\n",
    "        match = re.search(r\"\\(([\\d,]+)\\)\", value)\n",
    "        if match:\n",
    "            return int(match.group(1).replace(\",\", \"\"))\n",
    "\n",
    "\n",
    "def parse_system_requirements(requirements_list):\n",
    "    result = {}\n",
    "    for item in requirements_list:\n",
    "        if \":\" in item:\n",
    "            key, value = item.split(\":\")[:2]\n",
    "            result[key.strip()] = value.strip()\n",
    "    return result\n",
    "\n",
    "\n",
    "df = pl.scan_csv(local_dir / \"games_description.csv\")\n",
    "df = df.with_columns(\n",
    "    pl.col(\"genres\").str.replace_many([\"]\", \"'\", \"[\"], \"\").str.split(\", \"),\n",
    "    pl.col(\"number_of_english_reviews\").str.replace_all(\",\", \"\").cast(pl.Int32),\n",
    "    pl.col([\"minimum_system_requirement\", \"recommend_system_requirement\"])\n",
    "    .str.replace_many([\"]\", \"'\", \"[\"], \"\")\n",
    "    .str.split(\", \")\n",
    "    .map_elements(parse_system_requirements, return_dtype=pl.Object),\n",
    "    pl.col([\"developer\", \"publisher\"])\n",
    "    .str.replace_many([\"]\", \"'\", \"[\"], \"\")\n",
    "    .str.split(\", \"),\n",
    "    pl.col(\"overall_player_rating\").cast(pl.Categorical(\"lexical\")),\n",
    "    pl.when(pl.col(\"release_date\").str.contains(r\"\\d{1,2} \\w{3}, \\d{4}\"))\n",
    "    .then(pl.col(\"release_date\").str.to_date(\"%d %b, %Y\", strict=False))\n",
    "    .otherwise(pl.col(\"release_date\").str.to_date(\"%b %Y\", strict=False))\n",
    "    .alias(\"release_date\"),\n",
    "    pl.col(\"number_of_reviews_from_purchased_people\").map_elements(\n",
    "        parse_reviews, return_dtype=pl.Int32\n",
    "    ),\n",
    ")\n",
    "\n",
    "df.first().collect()"
   ]
  },
  {
   "cell_type": "markdown",
   "metadata": {},
   "source": [
    "# 2. `games_ranking.csv`\n",
    "\n",
    "The file is significantly easier to parse.\n",
    "\n",
    "Schema:\n",
    "```\n",
    "game_name: string\n",
    "genre: categorical\n",
    "rank_type: categorical\n",
    "rank: uint8\n",
    "```"
   ]
  },
  {
   "cell_type": "code",
   "execution_count": 8,
   "metadata": {},
   "outputs": [
    {
     "data": {
      "text/html": [
       "<div><style>\n",
       ".dataframe > thead > tr,\n",
       ".dataframe > tbody > tr {\n",
       "  text-align: right;\n",
       "  white-space: pre-wrap;\n",
       "}\n",
       "</style>\n",
       "<small>shape: (5, 4)</small><table border=\"1\" class=\"dataframe\"><thead><tr><th>game_name</th><th>genre</th><th>rank_type</th><th>rank</th></tr><tr><td>str</td><td>cat</td><td>cat</td><td>u8</td></tr></thead><tbody><tr><td>&quot;Counter-Strike 2&quot;</td><td>&quot;Action&quot;</td><td>&quot;Sales&quot;</td><td>1</td></tr><tr><td>&quot;Warhammer 40,000: Space Marine…</td><td>&quot;Action&quot;</td><td>&quot;Sales&quot;</td><td>2</td></tr><tr><td>&quot;Cyberpunk 2077&quot;</td><td>&quot;Action&quot;</td><td>&quot;Sales&quot;</td><td>3</td></tr><tr><td>&quot;Black Myth: Wukong&quot;</td><td>&quot;Action&quot;</td><td>&quot;Sales&quot;</td><td>4</td></tr><tr><td>&quot;ELDEN RING&quot;</td><td>&quot;Action&quot;</td><td>&quot;Sales&quot;</td><td>5</td></tr></tbody></table></div>"
      ],
      "text/plain": [
       "shape: (5, 4)\n",
       "┌─────────────────────────────────┬────────┬───────────┬──────┐\n",
       "│ game_name                       ┆ genre  ┆ rank_type ┆ rank │\n",
       "│ ---                             ┆ ---    ┆ ---       ┆ ---  │\n",
       "│ str                             ┆ cat    ┆ cat       ┆ u8   │\n",
       "╞═════════════════════════════════╪════════╪═══════════╪══════╡\n",
       "│ Counter-Strike 2                ┆ Action ┆ Sales     ┆ 1    │\n",
       "│ Warhammer 40,000: Space Marine… ┆ Action ┆ Sales     ┆ 2    │\n",
       "│ Cyberpunk 2077                  ┆ Action ┆ Sales     ┆ 3    │\n",
       "│ Black Myth: Wukong              ┆ Action ┆ Sales     ┆ 4    │\n",
       "│ ELDEN RING                      ┆ Action ┆ Sales     ┆ 5    │\n",
       "└─────────────────────────────────┴────────┴───────────┴──────┘"
      ]
     },
     "execution_count": 8,
     "metadata": {},
     "output_type": "execute_result"
    }
   ],
   "source": [
    "import polars as pl\n",
    "from pathlib import Path\n",
    "\n",
    "local_dir = Path(\"/teamspace/studios/this_studio/Steam-RecSys/data_pipeline/data\")\n",
    "schema = pl.Schema(\n",
    "    {\n",
    "        \"game_name\": pl.String(),\n",
    "        \"genre\": pl.Categorical(),\n",
    "        \"rank_type\": pl.Categorical(),\n",
    "        \"rank\": pl.UInt8(),\n",
    "    }\n",
    ")\n",
    "\n",
    "df = pl.scan_csv(local_dir / \"games_ranking.csv\", schema=schema)\n",
    "\n",
    "df.head().collect()"
   ]
  },
  {
   "cell_type": "markdown",
   "metadata": {},
   "source": [
    "# 3. `steam_game_reviews.csv`\n",
    "\n",
    "The file is the most important: our actual game review dataset. The most important thing is to parse the reviews into a suitable format for the recommendation system.\n",
    "\n",
    "Schema:\n",
    "```\n",
    "\n",
    "```"
   ]
  },
  {
   "cell_type": "code",
   "execution_count": 14,
   "metadata": {},
   "outputs": [
    {
     "data": {
      "text/html": [
       "<div><style>\n",
       ".dataframe > thead > tr,\n",
       ".dataframe > tbody > tr {\n",
       "  text-align: right;\n",
       "  white-space: pre-wrap;\n",
       "}\n",
       "</style>\n",
       "<small>shape: (992_153, 8)</small><table border=\"1\" class=\"dataframe\"><thead><tr><th>review</th><th>hours_played</th><th>helpful</th><th>funny</th><th>recommendation</th><th>date</th><th>game_name</th><th>username</th></tr><tr><td>str</td><td>f32</td><td>i64</td><td>i64</td><td>cat</td><td>date</td><td>str</td><td>str</td></tr></thead><tbody><tr><td>&quot;The game itself is also super …</td><td>39.900002</td><td>1152</td><td>13</td><td>&quot;Recommended&quot;</td><td>2024-09-14</td><td>&quot;Warhammer 40,000: Space Marine…</td><td>&quot;Sentinowl&quot;</td></tr><tr><td>&quot;Never cared much about Warhamm…</td><td>91.5</td><td>712</td><td>116</td><td>&quot;Recommended&quot;</td><td>2024-09-13</td><td>&quot;Warhammer 40,000: Space Marine…</td><td>&quot;userpig&quot;</td></tr><tr><td>&quot;A salute to all the fallen bat…</td><td>43.299999</td><td>492</td><td>33</td><td>&quot;Recommended&quot;</td><td>2024-09-14</td><td>&quot;Warhammer 40,000: Space Marine…</td><td>&quot;Imparat0r&quot;</td></tr><tr><td>&quot;this game feels like it was ma…</td><td>16.799999</td><td>661</td><td>15</td><td>&quot;Recommended&quot;</td><td>2024-09-14</td><td>&quot;Warhammer 40,000: Space Marine…</td><td>&quot;Fattest_falcon&quot;</td></tr><tr><td>&quot;Reminds me of something I&#x27;ve l…</td><td>24.0</td><td>557</td><td>4</td><td>&quot;Recommended&quot;</td><td>2024-09-12</td><td>&quot;Warhammer 40,000: Space Marine…</td><td>&quot;Jek&quot;</td></tr><tr><td>&hellip;</td><td>&hellip;</td><td>&hellip;</td><td>&hellip;</td><td>&hellip;</td><td>&hellip;</td><td>&hellip;</td><td>&hellip;</td></tr><tr><td>&quot;2022 Early Access Review Loads…</td><td>4.2</td><td>1</td><td>0</td><td>&quot;Recommended&quot;</td><td>2022-08-04</td><td>&quot;Turbo Golf Racing&quot;</td><td>&quot;Fatal Exit&quot;</td></tr><tr><td>&quot;2022 Early Access Review Great…</td><td>8.5</td><td>1</td><td>0</td><td>&quot;Recommended&quot;</td><td>2022-08-04</td><td>&quot;Turbo Golf Racing&quot;</td><td>&quot;cleybaR&quot;</td></tr><tr><td>&quot;2022 Early Access Review Excel…</td><td>83.300003</td><td>2</td><td>0</td><td>&quot;Recommended&quot;</td><td>2022-08-04</td><td>&quot;Turbo Golf Racing&quot;</td><td>&quot;Sim&quot;</td></tr><tr><td>&quot;2022 Early Access Review This …</td><td>3.8</td><td>1</td><td>0</td><td>&quot;Recommended&quot;</td><td>2022-08-04</td><td>&quot;Turbo Golf Racing&quot;</td><td>&quot;Fatboybadboy&quot;</td></tr><tr><td>&quot;2022 Early Access Review Im in…</td><td>315.299988</td><td>0</td><td>0</td><td>&quot;Not Recommended&quot;</td><td>2022-08-04</td><td>&quot;Turbo Golf Racing&quot;</td><td>&quot;Wolfy&quot;</td></tr></tbody></table></div>"
      ],
      "text/plain": [
       "shape: (992_153, 8)\n",
       "┌─────────────┬─────────────┬─────────┬───────┬─────────────┬────────────┬────────────┬────────────┐\n",
       "│ review      ┆ hours_playe ┆ helpful ┆ funny ┆ recommendat ┆ date       ┆ game_name  ┆ username   │\n",
       "│ ---         ┆ d           ┆ ---     ┆ ---   ┆ ion         ┆ ---        ┆ ---        ┆ ---        │\n",
       "│ str         ┆ ---         ┆ i64     ┆ i64   ┆ ---         ┆ date       ┆ str        ┆ str        │\n",
       "│             ┆ f32         ┆         ┆       ┆ cat         ┆            ┆            ┆            │\n",
       "╞═════════════╪═════════════╪═════════╪═══════╪═════════════╪════════════╪════════════╪════════════╡\n",
       "│ The game    ┆ 39.900002   ┆ 1152    ┆ 13    ┆ Recommended ┆ 2024-09-14 ┆ Warhammer  ┆ Sentinowl  │\n",
       "│ itself is   ┆             ┆         ┆       ┆             ┆            ┆ 40,000:    ┆            │\n",
       "│ also super  ┆             ┆         ┆       ┆             ┆            ┆ Space      ┆            │\n",
       "│ …           ┆             ┆         ┆       ┆             ┆            ┆ Marine…    ┆            │\n",
       "│ Never cared ┆ 91.5        ┆ 712     ┆ 116   ┆ Recommended ┆ 2024-09-13 ┆ Warhammer  ┆ userpig    │\n",
       "│ much about  ┆             ┆         ┆       ┆             ┆            ┆ 40,000:    ┆            │\n",
       "│ Warhamm…    ┆             ┆         ┆       ┆             ┆            ┆ Space      ┆            │\n",
       "│             ┆             ┆         ┆       ┆             ┆            ┆ Marine…    ┆            │\n",
       "│ A salute to ┆ 43.299999   ┆ 492     ┆ 33    ┆ Recommended ┆ 2024-09-14 ┆ Warhammer  ┆ Imparat0r  │\n",
       "│ all the     ┆             ┆         ┆       ┆             ┆            ┆ 40,000:    ┆            │\n",
       "│ fallen bat… ┆             ┆         ┆       ┆             ┆            ┆ Space      ┆            │\n",
       "│             ┆             ┆         ┆       ┆             ┆            ┆ Marine…    ┆            │\n",
       "│ this game   ┆ 16.799999   ┆ 661     ┆ 15    ┆ Recommended ┆ 2024-09-14 ┆ Warhammer  ┆ Fattest_fa │\n",
       "│ feels like  ┆             ┆         ┆       ┆             ┆            ┆ 40,000:    ┆ lcon       │\n",
       "│ it was ma…  ┆             ┆         ┆       ┆             ┆            ┆ Space      ┆            │\n",
       "│             ┆             ┆         ┆       ┆             ┆            ┆ Marine…    ┆            │\n",
       "│ Reminds me  ┆ 24.0        ┆ 557     ┆ 4     ┆ Recommended ┆ 2024-09-12 ┆ Warhammer  ┆ Jek        │\n",
       "│ of          ┆             ┆         ┆       ┆             ┆            ┆ 40,000:    ┆            │\n",
       "│ something   ┆             ┆         ┆       ┆             ┆            ┆ Space      ┆            │\n",
       "│ I've l…     ┆             ┆         ┆       ┆             ┆            ┆ Marine…    ┆            │\n",
       "│ …           ┆ …           ┆ …       ┆ …     ┆ …           ┆ …          ┆ …          ┆ …          │\n",
       "│ 2022 Early  ┆ 4.2         ┆ 1       ┆ 0     ┆ Recommended ┆ 2022-08-04 ┆ Turbo Golf ┆ Fatal Exit │\n",
       "│ Access      ┆             ┆         ┆       ┆             ┆            ┆ Racing     ┆            │\n",
       "│ Review      ┆             ┆         ┆       ┆             ┆            ┆            ┆            │\n",
       "│ Loads…      ┆             ┆         ┆       ┆             ┆            ┆            ┆            │\n",
       "│ 2022 Early  ┆ 8.5         ┆ 1       ┆ 0     ┆ Recommended ┆ 2022-08-04 ┆ Turbo Golf ┆ cleybaR    │\n",
       "│ Access      ┆             ┆         ┆       ┆             ┆            ┆ Racing     ┆            │\n",
       "│ Review      ┆             ┆         ┆       ┆             ┆            ┆            ┆            │\n",
       "│ Great…      ┆             ┆         ┆       ┆             ┆            ┆            ┆            │\n",
       "│ 2022 Early  ┆ 83.300003   ┆ 2       ┆ 0     ┆ Recommended ┆ 2022-08-04 ┆ Turbo Golf ┆ Sim        │\n",
       "│ Access      ┆             ┆         ┆       ┆             ┆            ┆ Racing     ┆            │\n",
       "│ Review      ┆             ┆         ┆       ┆             ┆            ┆            ┆            │\n",
       "│ Excel…      ┆             ┆         ┆       ┆             ┆            ┆            ┆            │\n",
       "│ 2022 Early  ┆ 3.8         ┆ 1       ┆ 0     ┆ Recommended ┆ 2022-08-04 ┆ Turbo Golf ┆ Fatboybadb │\n",
       "│ Access      ┆             ┆         ┆       ┆             ┆            ┆ Racing     ┆ oy         │\n",
       "│ Review This ┆             ┆         ┆       ┆             ┆            ┆            ┆            │\n",
       "│ …           ┆             ┆         ┆       ┆             ┆            ┆            ┆            │\n",
       "│ 2022 Early  ┆ 315.299988  ┆ 0       ┆ 0     ┆ Not         ┆ 2022-08-04 ┆ Turbo Golf ┆ Wolfy      │\n",
       "│ Access      ┆             ┆         ┆       ┆ Recommended ┆            ┆ Racing     ┆            │\n",
       "│ Review Im   ┆             ┆         ┆       ┆             ┆            ┆            ┆            │\n",
       "│ in…         ┆             ┆         ┆       ┆             ┆            ┆            ┆            │\n",
       "└─────────────┴─────────────┴─────────┴───────┴─────────────┴────────────┴────────────┴────────────┘"
      ]
     },
     "execution_count": 14,
     "metadata": {},
     "output_type": "execute_result"
    }
   ],
   "source": [
    "import polars as pl\n",
    "from pathlib import Path\n",
    "from datetime import datetime\n",
    "\n",
    "local_dir = Path(\"/teamspace/studios/this_studio/Steam-RecSys/data_pipeline/data\")\n",
    "\n",
    "\n",
    "def parse_date(date_str):\n",
    "    try:\n",
    "        # Try parsing with the format \"13 September\"\n",
    "        return datetime.strptime(date_str, \"%d %B\").replace(year=2024).date()\n",
    "    except ValueError:\n",
    "        pass\n",
    "    return None\n",
    "\n",
    "\n",
    "df = pl.scan_csv(local_dir / \"steam_game_reviews.csv\", infer_schema_length=10000)\n",
    "\n",
    "df = df.with_columns(\n",
    "    pl.col(\"hours_played\").str.replace_all(\",\", \"\").cast(pl.Float32),\n",
    "    pl.col([\"helpful\", \"funny\"]).str.replace_all(\",\", \"\").cast(pl.Int64),\n",
    "    pl.col(\"recommendation\").cast(pl.Categorical(\"lexical\")),\n",
    "    pl.when(pl.col(\"date\").str.contains(r\"\\d{1,2} \\w+, \\d{4}\"))\n",
    "    .then(pl.col(\"date\").str.to_date(\"%d %B, %Y\", strict=False))\n",
    "    .when(pl.col(\"date\").str.contains(r\"\\w+ \\d{1,2}, \\d{4}\"))\n",
    "    .then(pl.col(\"date\").str.to_date(\"%B %d, %Y\", strict=False))\n",
    "    .otherwise(pl.col(\"date\").map_elements(parse_date, return_dtype=pl.Date))\n",
    "    .alias(\"date\"),\n",
    "    pl.when(pl.col(\"username\").str.contains(\"\\n\"))\n",
    "    .then(pl.col(\"username\").str.extract(r\"^(.*?)\\n\"))\n",
    "    .otherwise(pl.col(\"username\")),\n",
    ")\n",
    "\n",
    "df.collect()"
   ]
  }
 ],
 "metadata": {
  "kernelspec": {
   "display_name": "cloudspace",
   "language": "python",
   "name": "python3"
  },
  "language_info": {
   "codemirror_mode": {
    "name": "ipython",
    "version": 3
   },
   "file_extension": ".py",
   "mimetype": "text/x-python",
   "name": "python",
   "nbconvert_exporter": "python",
   "pygments_lexer": "ipython3",
   "version": "3.10.10"
  }
 },
 "nbformat": 4,
 "nbformat_minor": 2
}
