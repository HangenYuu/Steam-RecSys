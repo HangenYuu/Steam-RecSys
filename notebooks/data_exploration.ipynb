{
 "cells": [
  {
   "cell_type": "markdown",
   "metadata": {},
   "source": [
    "The objective of the final data pipeline is parsing each column of the CSV file into the correct data type and save the new data as Parquet file."
   ]
  },
  {
   "cell_type": "markdown",
   "metadata": {},
   "source": [
    "# 1. `games_description.csv`\n",
    "\n",
    "The file wraps all columns as a string and have many columns with nested data types. Attempt to parse the data type from the start did not work. It's a challenge to process the column, which I actually welcomed 🤗.\n",
    "\n",
    "Schema:\n",
    "```\n",
    "name: string\n",
    "short_description: string\n",
    "long_description: string\n",
    "genres: object (array[string])\n",
    "minimum_system_requirement: object (struct[string])\n",
    "recommend_system_requirement: object (struct[string])\n",
    "release_date: date\n",
    "developer: object (array[string])\n",
    "publisher: object (array[string])\n",
    "overall_player_rating: categorical\n",
    "number_of_reviews_from_purchased_people: int32\n",
    "number_of_english_reviews: int32\n",
    "link: string\n",
    "```"
   ]
  },
  {
   "cell_type": "code",
   "execution_count": 6,
   "metadata": {},
   "outputs": [
    {
     "data": {
      "text/html": [
       "<div><style>\n",
       ".dataframe > thead > tr,\n",
       ".dataframe > tbody > tr {\n",
       "  text-align: right;\n",
       "  white-space: pre-wrap;\n",
       "}\n",
       "</style>\n",
       "<small>shape: (1, 13)</small><table border=\"1\" class=\"dataframe\"><thead><tr><th>name</th><th>short_description</th><th>long_description</th><th>genres</th><th>minimum_system_requirement</th><th>recommend_system_requirement</th><th>release_date</th><th>developer</th><th>publisher</th><th>overall_player_rating</th><th>number_of_reviews_from_purchased_people</th><th>number_of_english_reviews</th><th>link</th></tr><tr><td>str</td><td>str</td><td>str</td><td>list[str]</td><td>object</td><td>object</td><td>date</td><td>list[str]</td><td>list[str]</td><td>cat</td><td>i32</td><td>i32</td><td>str</td></tr></thead><tbody><tr><td>&quot;Black Myth: Wukong&quot;</td><td>&quot;Black Myth: Wukong is an actio…</td><td>&quot;About This Game\n",
       "\t\t\t\t\t\t\tBlack M…</td><td>[&quot;Mythology&quot;, &quot;Action RPG&quot;, … &quot;Violent&quot;]</td><td>{&#x27;OS&#x27;: &#x27;Windows 10 64-bit&#x27;, &#x27;Processor&#x27;: &#x27;Intel Core i5-8400 / AMD Ryzen 5 1600&#x27;, &#x27;Memory&#x27;: &#x27;16 GB RAM&#x27;, &#x27;Graphics&#x27;: &#x27;NVIDIA GeForce GTX 1060 6GB / AMD Radeon RX 580 8GB&#x27;, &#x27;DirectX&#x27;: &#x27;Version 11&#x27;, &#x27;Storage&#x27;: &#x27;130 GB available space&#x27;, &#x27;Sound Card&#x27;: &#x27;Windows Compatible Audio Device&#x27;, &#x27;Additional Notes&#x27;: &#x27;HDD Supported&#x27;}</td><td>{&#x27;OS&#x27;: &#x27;Windows 10 64-bit&#x27;, &#x27;Processor&#x27;: &#x27;Intel Core i7-9700 / AMD Ryzen 5 5500&#x27;, &#x27;Memory&#x27;: &#x27;16 GB RAM&#x27;, &#x27;Graphics&#x27;: &#x27;NVIDIA GeForce RTX 2060 / AMD Radeon RX 5700 XT / INTEL Arc A750&#x27;, &#x27;DirectX&#x27;: &#x27;Version 12&#x27;, &#x27;Storage&#x27;: &#x27;130 GB available space&#x27;, &#x27;Sound Card&#x27;: &#x27;Windows Compatible Audio Device&#x27;, &#x27;Additional Notes&#x27;: &#x27;SSD Required. The above specifications were tested with DLSS/FSR/XeSS enabled.&#x27;}</td><td>2024-08-19</td><td>[&quot;Game Science&quot;]</td><td>[&quot;Game Science&quot;]</td><td>&quot;Overwhelmingly Positive&quot;</td><td>654820</td><td>51931</td><td>&quot;https://store.steampowered.com…</td></tr></tbody></table></div>"
      ],
      "text/plain": [
       "shape: (1, 13)\n",
       "┌───────────┬───────────┬───────────┬───────────┬───┬───────────┬───────────┬───────────┬──────────┐\n",
       "│ name      ┆ short_des ┆ long_desc ┆ genres    ┆ … ┆ overall_p ┆ number_of ┆ number_of ┆ link     │\n",
       "│ ---       ┆ cription  ┆ ription   ┆ ---       ┆   ┆ layer_rat ┆ _reviews_ ┆ _english_ ┆ ---      │\n",
       "│ str       ┆ ---       ┆ ---       ┆ list[str] ┆   ┆ ing       ┆ from_purc ┆ reviews   ┆ str      │\n",
       "│           ┆ str       ┆ str       ┆           ┆   ┆ ---       ┆ has…      ┆ ---       ┆          │\n",
       "│           ┆           ┆           ┆           ┆   ┆ cat       ┆ ---       ┆ i32       ┆          │\n",
       "│           ┆           ┆           ┆           ┆   ┆           ┆ i32       ┆           ┆          │\n",
       "╞═══════════╪═══════════╪═══════════╪═══════════╪═══╪═══════════╪═══════════╪═══════════╪══════════╡\n",
       "│ Black     ┆ Black     ┆ About     ┆ [\"Mytholo ┆ … ┆ Overwhelm ┆ 654820    ┆ 51931     ┆ https:// │\n",
       "│ Myth:     ┆ Myth:     ┆ This Game ┆ gy\",      ┆   ┆ ingly     ┆           ┆           ┆ store.st │\n",
       "│ Wukong    ┆ Wukong is ┆ \t\t\t\t\t\t\tBl ┆ \"Action   ┆   ┆ Positive  ┆           ┆           ┆ eampower │\n",
       "│           ┆ an actio… ┆ ack M…    ┆ RPG\", … … ┆   ┆           ┆           ┆           ┆ ed.com…  │\n",
       "└───────────┴───────────┴───────────┴───────────┴───┴───────────┴───────────┴───────────┴──────────┘"
      ]
     },
     "execution_count": 6,
     "metadata": {},
     "output_type": "execute_result"
    }
   ],
   "source": [
    "import polars as pl\n",
    "from pathlib import Path\n",
    "import re\n",
    "\n",
    "local_dir = Path(\"/teamspace/studios/this_studio/Steam-RecSys/data_pipeline/data\")\n",
    "\n",
    "\n",
    "def parse_reviews(value):\n",
    "    if \"%\" in value:\n",
    "        # Extract percentage and total number\n",
    "        match = re.search(r\"(\\d+)% of ([\\d,]+)\", value)\n",
    "        if match:\n",
    "            percentage = int(match.group(1))\n",
    "            total = int(match.group(2).replace(\",\", \"\"))\n",
    "            return int((percentage / 100) * total)\n",
    "    else:\n",
    "        # Extract the number directly\n",
    "        match = re.search(r\"\\(([\\d,]+)\\)\", value)\n",
    "        if match:\n",
    "            return int(match.group(1).replace(\",\", \"\"))\n",
    "\n",
    "\n",
    "def parse_system_requirements(requirements_list):\n",
    "    result = {}\n",
    "    for item in requirements_list:\n",
    "        if \":\" in item:\n",
    "            key, value = item.split(\":\")[:2]\n",
    "            result[key.strip()] = value.strip()\n",
    "    return result\n",
    "\n",
    "\n",
    "df = pl.scan_csv(local_dir / \"games_description.csv\")\n",
    "df = df.with_columns(\n",
    "    pl.col(\"genres\").str.replace_many([\"]\", \"'\", \"[\"], \"\").str.split(\", \"),\n",
    "    pl.col(\"number_of_english_reviews\").str.replace_all(\",\", \"\").cast(pl.Int32),\n",
    "    pl.col([\"minimum_system_requirement\", \"recommend_system_requirement\"])\n",
    "    .str.replace_many([\"]\", \"'\", \"[\"], \"\")\n",
    "    .str.split(\", \")\n",
    "    .map_elements(parse_system_requirements, return_dtype=pl.Object),\n",
    "    pl.col([\"developer\", \"publisher\"])\n",
    "    .str.replace_many([\"]\", \"'\", \"[\"], \"\")\n",
    "    .str.split(\", \"),\n",
    "    pl.col(\"overall_player_rating\").cast(pl.Categorical(\"lexical\")),\n",
    "    pl.when(pl.col(\"release_date\").str.contains(r\"\\d{1,2} \\w{3}, \\d{4}\"))\n",
    "    .then(pl.col(\"release_date\").str.to_date(\"%d %b, %Y\", strict=False))\n",
    "    .otherwise(pl.col(\"release_date\").str.to_date(\"%b %Y\", strict=False))\n",
    "    .alias(\"release_date\"),\n",
    "    pl.col(\"number_of_reviews_from_purchased_people\").map_elements(\n",
    "        parse_reviews, return_dtype=pl.Int32\n",
    "    ),\n",
    ")\n",
    "\n",
    "df.first().collect()"
   ]
  },
  {
   "cell_type": "markdown",
   "metadata": {},
   "source": [
    "# 2. `games_ranking.csv`\n",
    "\n",
    "The file is significantly easier to parse.\n",
    "\n",
    "Schema:\n",
    "```\n",
    "game_name: string\n",
    "genre: categorical\n",
    "rank_type: categorical\n",
    "rank: uint8\n",
    "```"
   ]
  },
  {
   "cell_type": "code",
   "execution_count": 8,
   "metadata": {},
   "outputs": [
    {
     "data": {
      "text/html": [
       "<div><style>\n",
       ".dataframe > thead > tr,\n",
       ".dataframe > tbody > tr {\n",
       "  text-align: right;\n",
       "  white-space: pre-wrap;\n",
       "}\n",
       "</style>\n",
       "<small>shape: (5, 4)</small><table border=\"1\" class=\"dataframe\"><thead><tr><th>game_name</th><th>genre</th><th>rank_type</th><th>rank</th></tr><tr><td>str</td><td>cat</td><td>cat</td><td>u8</td></tr></thead><tbody><tr><td>&quot;Counter-Strike 2&quot;</td><td>&quot;Action&quot;</td><td>&quot;Sales&quot;</td><td>1</td></tr><tr><td>&quot;Warhammer 40,000: Space Marine…</td><td>&quot;Action&quot;</td><td>&quot;Sales&quot;</td><td>2</td></tr><tr><td>&quot;Cyberpunk 2077&quot;</td><td>&quot;Action&quot;</td><td>&quot;Sales&quot;</td><td>3</td></tr><tr><td>&quot;Black Myth: Wukong&quot;</td><td>&quot;Action&quot;</td><td>&quot;Sales&quot;</td><td>4</td></tr><tr><td>&quot;ELDEN RING&quot;</td><td>&quot;Action&quot;</td><td>&quot;Sales&quot;</td><td>5</td></tr></tbody></table></div>"
      ],
      "text/plain": [
       "shape: (5, 4)\n",
       "┌─────────────────────────────────┬────────┬───────────┬──────┐\n",
       "│ game_name                       ┆ genre  ┆ rank_type ┆ rank │\n",
       "│ ---                             ┆ ---    ┆ ---       ┆ ---  │\n",
       "│ str                             ┆ cat    ┆ cat       ┆ u8   │\n",
       "╞═════════════════════════════════╪════════╪═══════════╪══════╡\n",
       "│ Counter-Strike 2                ┆ Action ┆ Sales     ┆ 1    │\n",
       "│ Warhammer 40,000: Space Marine… ┆ Action ┆ Sales     ┆ 2    │\n",
       "│ Cyberpunk 2077                  ┆ Action ┆ Sales     ┆ 3    │\n",
       "│ Black Myth: Wukong              ┆ Action ┆ Sales     ┆ 4    │\n",
       "│ ELDEN RING                      ┆ Action ┆ Sales     ┆ 5    │\n",
       "└─────────────────────────────────┴────────┴───────────┴──────┘"
      ]
     },
     "execution_count": 8,
     "metadata": {},
     "output_type": "execute_result"
    }
   ],
   "source": [
    "import polars as pl\n",
    "from pathlib import Path\n",
    "\n",
    "local_dir = Path(\"/teamspace/studios/this_studio/Steam-RecSys/data_pipeline/data\")\n",
    "schema = pl.Schema(\n",
    "    {\n",
    "        \"game_name\": pl.String(),\n",
    "        \"genre\": pl.Categorical(),\n",
    "        \"rank_type\": pl.Categorical(),\n",
    "        \"rank\": pl.UInt8(),\n",
    "    }\n",
    ")\n",
    "\n",
    "df = pl.scan_csv(local_dir / \"games_ranking.csv\", schema=schema)\n",
    "\n",
    "df.head().collect()"
   ]
  },
  {
   "cell_type": "markdown",
   "metadata": {},
   "source": [
    "# 3. `steam_game_reviews.csv`\n",
    "\n",
    "The file is the most important: our actual game review dataset. The most important thing is to parse the reviews into a suitable format for the recommendation system.\n",
    "\n",
    "Schema:\n",
    "```\n",
    "\n",
    "```"
   ]
  },
  {
   "cell_type": "code",
   "execution_count": 12,
   "metadata": {},
   "outputs": [
    {
     "data": {
      "text/html": [
       "<div><style>\n",
       ".dataframe > thead > tr,\n",
       ".dataframe > tbody > tr {\n",
       "  text-align: right;\n",
       "  white-space: pre-wrap;\n",
       "}\n",
       "</style>\n",
       "<small>shape: (5, 8)</small><table border=\"1\" class=\"dataframe\"><thead><tr><th>review</th><th>hours_played</th><th>helpful</th><th>funny</th><th>recommendation</th><th>date</th><th>game_name</th><th>username</th></tr><tr><td>str</td><td>str</td><td>str</td><td>str</td><td>str</td><td>str</td><td>str</td><td>str</td></tr></thead><tbody><tr><td>&quot;The game itself is also super …</td><td>&quot;39.9&quot;</td><td>&quot;1,152&quot;</td><td>&quot;13&quot;</td><td>&quot;Recommended&quot;</td><td>&quot;14 September&quot;</td><td>&quot;Warhammer 40,000: Space Marine…</td><td>&quot;Sentinowl\n",
       "224 products in acco…</td></tr><tr><td>&quot;Never cared much about Warhamm…</td><td>&quot;91.5&quot;</td><td>&quot;712&quot;</td><td>&quot;116&quot;</td><td>&quot;Recommended&quot;</td><td>&quot;13 September&quot;</td><td>&quot;Warhammer 40,000: Space Marine…</td><td>&quot;userpig\n",
       "248 products in accoun…</td></tr><tr><td>&quot;A salute to all the fallen bat…</td><td>&quot;43.3&quot;</td><td>&quot;492&quot;</td><td>&quot;33&quot;</td><td>&quot;Recommended&quot;</td><td>&quot;14 September&quot;</td><td>&quot;Warhammer 40,000: Space Marine…</td><td>&quot;Imparat0r\n",
       "112 products in acco…</td></tr><tr><td>&quot;this game feels like it was ma…</td><td>&quot;16.8&quot;</td><td>&quot;661&quot;</td><td>&quot;15&quot;</td><td>&quot;Recommended&quot;</td><td>&quot;14 September&quot;</td><td>&quot;Warhammer 40,000: Space Marine…</td><td>&quot;Fattest_falcon&quot;</td></tr><tr><td>&quot;Reminds me of something I&#x27;ve l…</td><td>&quot;24.0&quot;</td><td>&quot;557&quot;</td><td>&quot;4&quot;</td><td>&quot;Recommended&quot;</td><td>&quot;12 September&quot;</td><td>&quot;Warhammer 40,000: Space Marine…</td><td>&quot;Jek\n",
       "410 products in account&quot;</td></tr></tbody></table></div>"
      ],
      "text/plain": [
       "shape: (5, 8)\n",
       "┌─────────────┬─────────────┬─────────┬───────┬─────────────┬────────────┬────────────┬────────────┐\n",
       "│ review      ┆ hours_playe ┆ helpful ┆ funny ┆ recommendat ┆ date       ┆ game_name  ┆ username   │\n",
       "│ ---         ┆ d           ┆ ---     ┆ ---   ┆ ion         ┆ ---        ┆ ---        ┆ ---        │\n",
       "│ str         ┆ ---         ┆ str     ┆ str   ┆ ---         ┆ str        ┆ str        ┆ str        │\n",
       "│             ┆ str         ┆         ┆       ┆ str         ┆            ┆            ┆            │\n",
       "╞═════════════╪═════════════╪═════════╪═══════╪═════════════╪════════════╪════════════╪════════════╡\n",
       "│ The game    ┆ 39.9        ┆ 1,152   ┆ 13    ┆ Recommended ┆ 14         ┆ Warhammer  ┆ Sentinowl  │\n",
       "│ itself is   ┆             ┆         ┆       ┆             ┆ September  ┆ 40,000:    ┆ 224        │\n",
       "│ also super  ┆             ┆         ┆       ┆             ┆            ┆ Space      ┆ products   │\n",
       "│ …           ┆             ┆         ┆       ┆             ┆            ┆ Marine…    ┆ in acco…   │\n",
       "│ Never cared ┆ 91.5        ┆ 712     ┆ 116   ┆ Recommended ┆ 13         ┆ Warhammer  ┆ userpig    │\n",
       "│ much about  ┆             ┆         ┆       ┆             ┆ September  ┆ 40,000:    ┆ 248        │\n",
       "│ Warhamm…    ┆             ┆         ┆       ┆             ┆            ┆ Space      ┆ products   │\n",
       "│             ┆             ┆         ┆       ┆             ┆            ┆ Marine…    ┆ in accoun… │\n",
       "│ A salute to ┆ 43.3        ┆ 492     ┆ 33    ┆ Recommended ┆ 14         ┆ Warhammer  ┆ Imparat0r  │\n",
       "│ all the     ┆             ┆         ┆       ┆             ┆ September  ┆ 40,000:    ┆ 112        │\n",
       "│ fallen bat… ┆             ┆         ┆       ┆             ┆            ┆ Space      ┆ products   │\n",
       "│             ┆             ┆         ┆       ┆             ┆            ┆ Marine…    ┆ in acco…   │\n",
       "│ this game   ┆ 16.8        ┆ 661     ┆ 15    ┆ Recommended ┆ 14         ┆ Warhammer  ┆ Fattest_fa │\n",
       "│ feels like  ┆             ┆         ┆       ┆             ┆ September  ┆ 40,000:    ┆ lcon       │\n",
       "│ it was ma…  ┆             ┆         ┆       ┆             ┆            ┆ Space      ┆            │\n",
       "│             ┆             ┆         ┆       ┆             ┆            ┆ Marine…    ┆            │\n",
       "│ Reminds me  ┆ 24.0        ┆ 557     ┆ 4     ┆ Recommended ┆ 12         ┆ Warhammer  ┆ Jek        │\n",
       "│ of          ┆             ┆         ┆       ┆             ┆ September  ┆ 40,000:    ┆ 410        │\n",
       "│ something   ┆             ┆         ┆       ┆             ┆            ┆ Space      ┆ products   │\n",
       "│ I've l…     ┆             ┆         ┆       ┆             ┆            ┆ Marine…    ┆ in account │\n",
       "└─────────────┴─────────────┴─────────┴───────┴─────────────┴────────────┴────────────┴────────────┘"
      ]
     },
     "execution_count": 12,
     "metadata": {},
     "output_type": "execute_result"
    }
   ],
   "source": [
    "import polars as pl\n",
    "from pathlib import Path\n",
    "\n",
    "local_dir = Path(\"/teamspace/studios/this_studio/Steam-RecSys/data_pipeline/data\")\n",
    "\n",
    "df = pl.scan_csv(local_dir / \"steam_game_reviews.csv\", infer_schema_length=10000)\n",
    "\n",
    "df.head().collect()"
   ]
  }
 ],
 "metadata": {
  "kernelspec": {
   "display_name": "cloudspace",
   "language": "python",
   "name": "python3"
  },
  "language_info": {
   "codemirror_mode": {
    "name": "ipython",
    "version": 3
   },
   "file_extension": ".py",
   "mimetype": "text/x-python",
   "name": "python",
   "nbconvert_exporter": "python",
   "pygments_lexer": "ipython3",
   "version": "3.10.10"
  }
 },
 "nbformat": 4,
 "nbformat_minor": 2
}
