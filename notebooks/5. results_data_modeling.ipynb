{
 "cells": [
  {
   "cell_type": "code",
   "execution_count": 1,
   "metadata": {},
   "outputs": [],
   "source": [
    "import polars as pl"
   ]
  },
  {
   "cell_type": "code",
   "execution_count": 3,
   "metadata": {},
   "outputs": [
    {
     "data": {
      "text/html": [
       "<div><style>\n",
       ".dataframe > thead > tr,\n",
       ".dataframe > tbody > tr {\n",
       "  text-align: right;\n",
       "  white-space: pre-wrap;\n",
       "}\n",
       "</style>\n",
       "<small>shape: (10, 2)</small><table border=\"1\" class=\"dataframe\"><thead><tr><th>user_id</th><th>recommendations</th></tr><tr><td>i32</td><td>list[struct[2]]</td></tr></thead><tbody><tr><td>12</td><td>[{97,0.903083}, {78,0.897507}, … {54,0.883242}]</td></tr><tr><td>26</td><td>[{285,0.900752}, {205,0.844799}, … {51,0.81545}]</td></tr><tr><td>27</td><td>[{89,0.903535}, {63,0.890931}, … {48,0.880513}]</td></tr><tr><td>31</td><td>[{158,0.893835}, {127,0.874928}, … {136,0.853688}]</td></tr><tr><td>34</td><td>[{89,0.891225}, {106,0.87786}, … {127,0.860272}]</td></tr><tr><td>44</td><td>[{185,0.860318}, {118,0.849797}, … {85,0.734892}]</td></tr><tr><td>53</td><td>[{253,0.683582}, {136,0.674857}, … {160,0.635886}]</td></tr><tr><td>65</td><td>[{150,0.905181}, {125,0.846251}, … {117,0.825468}]</td></tr><tr><td>76</td><td>[{249,0.849297}, {187,0.810864}, … {168,0.688896}]</td></tr><tr><td>78</td><td>[{98,0.898772}, {138,0.898415}, … {205,0.871922}]</td></tr></tbody></table></div>"
      ],
      "text/plain": [
       "shape: (10, 2)\n",
       "┌─────────┬─────────────────────────────────┐\n",
       "│ user_id ┆ recommendations                 │\n",
       "│ ---     ┆ ---                             │\n",
       "│ i32     ┆ list[struct[2]]                 │\n",
       "╞═════════╪═════════════════════════════════╡\n",
       "│ 12      ┆ [{97,0.903083}, {78,0.897507},… │\n",
       "│ 26      ┆ [{285,0.900752}, {205,0.844799… │\n",
       "│ 27      ┆ [{89,0.903535}, {63,0.890931},… │\n",
       "│ 31      ┆ [{158,0.893835}, {127,0.874928… │\n",
       "│ 34      ┆ [{89,0.891225}, {106,0.87786},… │\n",
       "│ 44      ┆ [{185,0.860318}, {118,0.849797… │\n",
       "│ 53      ┆ [{253,0.683582}, {136,0.674857… │\n",
       "│ 65      ┆ [{150,0.905181}, {125,0.846251… │\n",
       "│ 76      ┆ [{249,0.849297}, {187,0.810864… │\n",
       "│ 78      ┆ [{98,0.898772}, {138,0.898415}… │\n",
       "└─────────┴─────────────────────────────────┘"
      ]
     },
     "execution_count": 3,
     "metadata": {},
     "output_type": "execute_result"
    }
   ],
   "source": [
    "df = pl.scan_parquet(\"../data_pipeline/data/results/user_recommendations.parquet\")"
   ]
  }
 ],
 "metadata": {
  "kernelspec": {
   "display_name": "Python 3",
   "language": "python",
   "name": "python3"
  },
  "language_info": {
   "codemirror_mode": {
    "name": "ipython",
    "version": 3
   },
   "file_extension": ".py",
   "mimetype": "text/x-python",
   "name": "python",
   "nbconvert_exporter": "python",
   "pygments_lexer": "ipython3",
   "version": "3.12.1"
  }
 },
 "nbformat": 4,
 "nbformat_minor": 2
}
