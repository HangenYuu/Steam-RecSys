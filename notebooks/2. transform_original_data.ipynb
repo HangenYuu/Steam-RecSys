{
  "nbformat": 4,
  "nbformat_minor": 0,
  "metadata": {
    "colab": {
      "provenance": []
    },
    "kernelspec": {
      "name": "python3",
      "display_name": "Python 3"
    },
    "language_info": {
      "name": "python"
    }
  },
  "cells": [
    {
      "cell_type": "markdown",
      "source": [
        "# Note\n",
        "This Google Colab notebook is run in different sessions so the notebook is not suitable for running from start to finish in one go. This notebook serves more to \"audit\" my exploration."
      ],
      "metadata": {
        "id": "jA6f8hPh8y8f"
      }
    },
    {
      "cell_type": "code",
      "execution_count": null,
      "metadata": {
        "id": "yWJLJkBHCkOw"
      },
      "outputs": [],
      "source": [
        "%%capture\n",
        "!pip install huggingface-hub polars==1.9.0 -U"
      ]
    },
    {
      "cell_type": "code",
      "source": [
        "%%capture\n",
        "!huggingface-cli download HangenYuu/Steam_Games_Review --repo-type dataset --local-dir ./data"
      ],
      "metadata": {
        "collapsed": true,
        "id": "oXG8nnLTCsuQ"
      },
      "execution_count": null,
      "outputs": []
    },
    {
      "cell_type": "markdown",
      "source": [
        "# Objectives\n",
        "1. Normalize the data to make it look more like coming from an operational database.\n",
        "2. Map the data to the correct schema to speed up initialization of the PosgreSQL database later."
      ],
      "metadata": {
        "id": "FaZMeTN_aRcD"
      }
    },
    {
      "cell_type": "markdown",
      "source": [
        "# Transformation logic\n",
        "\n",
        "1. Create Game ID in Games table.\n",
        "2. Create tables for nested column (genres, developer, publisher).\n",
        "3. Create bridge table for the nested column.\n",
        "2. Create Users table with User ID & Username.\n",
        "1. Use Game ID and User ID in Reviews table.\n",
        "\n"
      ],
      "metadata": {
        "id": "9RvHgGdTQkz7"
      }
    },
    {
      "cell_type": "markdown",
      "source": [
        "# Unnest `Games` table\n",
        "**Note**: Exclude columns for system requirements as it's likely not be used in a SQL database (a document database such as MongoDB is suitable for the format). So they are dropped from the beginning."
      ],
      "metadata": {
        "id": "VZK-rlCqaKdQ"
      }
    },
    {
      "cell_type": "code",
      "source": [
        "import polars as pl\n",
        "from pathlib import Path\n",
        "import re\n",
        "\n",
        "local_dir = Path(\"/content/data\")"
      ],
      "metadata": {
        "id": "o8gELtyjDOMc"
      },
      "execution_count": 3,
      "outputs": []
    },
    {
      "cell_type": "code",
      "source": [
        "def parse_reviews(value):\n",
        "    if \"%\" in value:\n",
        "        # Extract percentage and total number\n",
        "        match = re.search(r\"(\\d+)% of ([\\d,]+)\", value)\n",
        "        if match:\n",
        "            percentage = int(match.group(1))\n",
        "            total = int(match.group(2).replace(\",\", \"\"))\n",
        "            return int((percentage / 100) * total)\n",
        "    else:\n",
        "        # Extract the number directly\n",
        "        match = re.search(r\"\\(([\\d,]+)\\)\", value)\n",
        "        if match:\n",
        "            return int(match.group(1).replace(\",\", \"\"))\n",
        "\n",
        "df = pl.scan_csv(local_dir / \"games_description.csv\").drop(\"minimum_system_requirement\", \"recommend_system_requirement\", \"link\", \"short_description\")\n",
        "df = df.with_row_index(\"game_id\", 1)\n",
        "df = df.with_columns(\n",
        "    pl.col(\"genres\").str.replace_many([\"]\", \"'\", \"[\"], \"\").str.split(\", \"),\n",
        "    pl.col(\"long_description\").str.strip_prefix(\"About This Game\").str.strip_chars(),\n",
        "    pl.col(\"number_of_english_reviews\").str.replace_all(\",\", \"\").cast(pl.Int32),\n",
        "    pl.col([\"developer\", \"publisher\"])\n",
        "    .str.replace_many([\"]\", \"'\", \"[\"], \"\")\n",
        "    .str.split(\", \"),\n",
        "    pl.when(pl.col(\"release_date\").str.contains(r\"\\d{1,2} \\w{3}, \\d{4}\"))\n",
        "    .then(pl.col(\"release_date\").str.to_date(\"%d %b, %Y\", strict=False))\n",
        "    .otherwise(pl.col(\"release_date\").str.to_date(\"%b %Y\", strict=False))\n",
        "    .alias(\"release_date\"),\n",
        "    pl.col(\"number_of_reviews_from_purchased_people\").map_elements(\n",
        "        parse_reviews, return_dtype=pl.Int32\n",
        "    ),\n",
        ")\n",
        "\n",
        "df = df.with_columns(\n",
        "    pl.when(pl.col(\"number_of_reviews_from_purchased_people\").is_null())\n",
        "    .then(pl.lit(\"Not enough data\"))\n",
        "    .otherwise(pl.col(\"overall_player_rating\"))\n",
        "    .cast(pl.Categorical(\"lexical\"))\n",
        "    .alias(\"overall_player_rating\"),\n",
        "    pl.when(pl.col(\"number_of_reviews_from_purchased_people\").is_null())\n",
        "    .then(pl.col(\"overall_player_rating\").str.extract(r\"(\\d+)\").cast(pl.Int32))\n",
        "    .otherwise(pl.col(\"number_of_reviews_from_purchased_people\"))\n",
        "    .alias(\"number_of_reviews_from_purchased_people\"),\n",
        ")\n",
        "\n",
        "df.collect()"
      ],
      "metadata": {
        "id": "CcfomewTEq_L",
        "outputId": "fea4e5a4-e633-4b5f-cd83-3faf2d089cb9",
        "colab": {
          "base_uri": "https://localhost:8080/",
          "height": 602
        }
      },
      "execution_count": null,
      "outputs": [
        {
          "output_type": "execute_result",
          "data": {
            "text/plain": [
              "shape: (290, 10)\n",
              "┌─────────┬────────────┬───────────┬───────────┬───┬───────────┬───────────┬───────────┬───────────┐\n",
              "│ game_id ┆ name       ┆ long_desc ┆ genres    ┆ … ┆ publisher ┆ overall_p ┆ number_of ┆ number_of │\n",
              "│ ---     ┆ ---        ┆ ription   ┆ ---       ┆   ┆ ---       ┆ layer_rat ┆ _reviews_ ┆ _english_ │\n",
              "│ u32     ┆ str        ┆ ---       ┆ list[str] ┆   ┆ list[str] ┆ ing       ┆ from_purc ┆ reviews   │\n",
              "│         ┆            ┆ str       ┆           ┆   ┆           ┆ ---       ┆ has…      ┆ ---       │\n",
              "│         ┆            ┆           ┆           ┆   ┆           ┆ cat       ┆ ---       ┆ i32       │\n",
              "│         ┆            ┆           ┆           ┆   ┆           ┆           ┆ i32       ┆           │\n",
              "╞═════════╪════════════╪═══════════╪═══════════╪═══╪═══════════╪═══════════╪═══════════╪═══════════╡\n",
              "│ 1       ┆ Black      ┆ Black     ┆ [\"Mytholo ┆ … ┆ [\"Game    ┆ Overwhelm ┆ 654820    ┆ 51931     │\n",
              "│         ┆ Myth:      ┆ Myth:     ┆ gy\",      ┆   ┆ Science\"] ┆ ingly     ┆           ┆           │\n",
              "│         ┆ Wukong     ┆ Wukong is ┆ \"Action   ┆   ┆           ┆ Positive  ┆           ┆           │\n",
              "│         ┆            ┆ an actio… ┆ RPG\", … … ┆   ┆           ┆           ┆           ┆           │\n",
              "│ 2       ┆ Counter-St ┆ For over  ┆ [\"FPS\",   ┆ … ┆ [\"Valve\"] ┆ Very      ┆ 8313603   ┆ 2258990   │\n",
              "│         ┆ rike 2     ┆ two       ┆ \"Shooter\" ┆   ┆           ┆ Positive  ┆           ┆           │\n",
              "│         ┆            ┆ decades,  ┆ , … \"Modd ┆   ┆           ┆           ┆           ┆           │\n",
              "│         ┆            ┆ Counter-… ┆ able…     ┆   ┆           ┆           ┆           ┆           │\n",
              "│ 3       ┆ Warhammer  ┆ Embody    ┆ [\"Warhamm ┆ … ┆ [\"Focus   ┆ Very      ┆ 50860     ┆ 51920     │\n",
              "│         ┆ 40,000:    ┆ the super ┆ er 40K\",  ┆   ┆ Entertain ┆ Positive  ┆           ┆           │\n",
              "│         ┆ Space      ┆ human     ┆ \"Action\", ┆   ┆ ment\"]    ┆           ┆           ┆           │\n",
              "│         ┆ Marine…    ┆ skill an… ┆ … …       ┆   ┆           ┆           ┆           ┆           │\n",
              "│ 4       ┆ Cyberpunk  ┆ Cyberpunk ┆ [\"Cyberpu ┆ … ┆ [\"CD      ┆ Very      ┆ 680264    ┆ 324124    │\n",
              "│         ┆ 2077       ┆ 2077 is   ┆ nk\",      ┆   ┆ PROJEKT   ┆ Positive  ┆           ┆           │\n",
              "│         ┆            ┆ an open-w ┆ \"Open     ┆   ┆ RED\"]     ┆           ┆           ┆           │\n",
              "│         ┆            ┆ orl…      ┆ World\", … ┆   ┆           ┆           ┆           ┆           │\n",
              "│         ┆            ┆           ┆ …         ┆   ┆           ┆           ┆           ┆           │\n",
              "│ 5       ┆ ELDEN RING ┆ THE CRITI ┆ [\"Souls-l ┆ … ┆ [\"FromSof ┆ Very      ┆ 705261    ┆ 491741    │\n",
              "│         ┆            ┆ CALLY     ┆ ike\",     ┆   ┆ tware\",   ┆ Positive  ┆           ┆           │\n",
              "│         ┆            ┆ ACCLAIMED ┆ \"Dark Fan ┆   ┆ \"Inc.\",   ┆           ┆           ┆           │\n",
              "│         ┆            ┆ FANTA…    ┆ tasy\",…   ┆   ┆ \"Band…    ┆           ┆           ┆           │\n",
              "│ …       ┆ …          ┆ …         ┆ …         ┆ … ┆ …         ┆ …         ┆ …         ┆ …         │\n",
              "│ 286     ┆ MXGP PRO   ┆ The       ┆ [\"Simulat ┆ … ┆ [\"Milesto ┆ Very      ┆ 777       ┆ 433       │\n",
              "│         ┆            ┆ official  ┆ ion\",     ┆   ┆ ne        ┆ Positive  ┆           ┆           │\n",
              "│         ┆            ┆ video     ┆ \"Racing\", ┆   ┆ S.r.l.\"]  ┆           ┆           ┆           │\n",
              "│         ┆            ┆ game of   ┆ … \"Of…    ┆   ┆           ┆           ┆           ┆           │\n",
              "│         ┆            ┆ the…      ┆           ┆   ┆           ┆           ┆           ┆           │\n",
              "│ 287     ┆ MXGP 2019  ┆ The       ┆ [\"Simulat ┆ … ┆ [\"Milesto ┆ Very      ┆ 772       ┆ 446       │\n",
              "│         ┆ - The      ┆ official  ┆ ion\",     ┆   ┆ ne        ┆ Positive  ┆           ┆           │\n",
              "│         ┆ Official   ┆ Motocross ┆ \"Racing\", ┆   ┆ S.r.l.\"]  ┆           ┆           ┆           │\n",
              "│         ┆ Motoc…     ┆ Champio…  ┆ … \"Mu…    ┆   ┆           ┆           ┆           ┆           │\n",
              "│ 288     ┆ Ride 2     ┆ Welcome   ┆ [\"Racing\" ┆ … ┆ [\"Milesto ┆ Very      ┆ 2008      ┆ 1045      │\n",
              "│         ┆            ┆ to the    ┆ ,         ┆   ┆ ne        ┆ Positive  ┆           ┆           │\n",
              "│         ┆            ┆ temple of ┆ \"Sports\", ┆   ┆ S.r.l.\"]  ┆           ┆           ┆           │\n",
              "│         ┆            ┆ motor…    ┆ …         ┆   ┆           ┆           ┆           ┆           │\n",
              "│         ┆            ┆           ┆ \"Contro…  ┆   ┆           ┆           ┆           ┆           │\n",
              "│ 289     ┆ Tanuki     ┆ Grab Your ┆ [\"Racing\" ┆ … ┆ [\"Rewind  ┆ Very      ┆ 390       ┆ 451       │\n",
              "│         ┆ Sunset     ┆ Longboard ┆ ,         ┆   ┆ Games\"]   ┆ Positive  ┆           ┆           │\n",
              "│         ┆            ┆ and Race  ┆ \"Action\", ┆   ┆           ┆           ┆           ┆           │\n",
              "│         ┆            ┆ t…        ┆ …         ┆   ┆           ┆           ┆           ┆           │\n",
              "│         ┆            ┆           ┆ \"Casual…  ┆   ┆           ┆           ┆           ┆           │\n",
              "│ 290     ┆ Grand      ┆ Grand     ┆ [\"Simulat ┆ … ┆ [\"Microid ┆ Very      ┆ 184       ┆ 246       │\n",
              "│         ┆ Mountain   ┆ Mountain  ┆ ion\", \"Ad ┆   ┆ s\"]       ┆ Positive  ┆           ┆           │\n",
              "│         ┆ Adventure: ┆ Adventure ┆ venture\", ┆   ┆           ┆           ┆           ┆           │\n",
              "│         ┆ Wond…      ┆ : Wond…   ┆ … …       ┆   ┆           ┆           ┆           ┆           │\n",
              "└─────────┴────────────┴───────────┴───────────┴───┴───────────┴───────────┴───────────┴───────────┘"
            ],
            "text/html": [
              "<div><style>\n",
              ".dataframe > thead > tr,\n",
              ".dataframe > tbody > tr {\n",
              "  text-align: right;\n",
              "  white-space: pre-wrap;\n",
              "}\n",
              "</style>\n",
              "<small>shape: (290, 10)</small><table border=\"1\" class=\"dataframe\"><thead><tr><th>game_id</th><th>name</th><th>long_description</th><th>genres</th><th>release_date</th><th>developer</th><th>publisher</th><th>overall_player_rating</th><th>number_of_reviews_from_purchased_people</th><th>number_of_english_reviews</th></tr><tr><td>u32</td><td>str</td><td>str</td><td>list[str]</td><td>date</td><td>list[str]</td><td>list[str]</td><td>cat</td><td>i32</td><td>i32</td></tr></thead><tbody><tr><td>1</td><td>&quot;Black Myth: Wukong&quot;</td><td>&quot;Black Myth: Wukong is an actio…</td><td>[&quot;Mythology&quot;, &quot;Action RPG&quot;, … &quot;Violent&quot;]</td><td>2024-08-19</td><td>[&quot;Game Science&quot;]</td><td>[&quot;Game Science&quot;]</td><td>&quot;Overwhelmingly Positive&quot;</td><td>654820</td><td>51931</td></tr><tr><td>2</td><td>&quot;Counter-Strike 2&quot;</td><td>&quot;For over two decades, Counter-…</td><td>[&quot;FPS&quot;, &quot;Shooter&quot;, … &quot;Moddable&quot;]</td><td>2012-08-21</td><td>[&quot;Valve&quot;]</td><td>[&quot;Valve&quot;]</td><td>&quot;Very Positive&quot;</td><td>8313603</td><td>2258990</td></tr><tr><td>3</td><td>&quot;Warhammer 40,000: Space Marine…</td><td>&quot;Embody the superhuman skill an…</td><td>[&quot;Warhammer 40K&quot;, &quot;Action&quot;, … &quot;Futuristic&quot;]</td><td>2024-09-09</td><td>[&quot;Saber Interactive&quot;]</td><td>[&quot;Focus Entertainment&quot;]</td><td>&quot;Very Positive&quot;</td><td>50860</td><td>51920</td></tr><tr><td>4</td><td>&quot;Cyberpunk 2077&quot;</td><td>&quot;Cyberpunk 2077 is an open-worl…</td><td>[&quot;Cyberpunk&quot;, &quot;Open World&quot;, … &quot;Immersive Sim&quot;]</td><td>2020-12-10</td><td>[&quot;CD PROJEKT RED&quot;]</td><td>[&quot;CD PROJEKT RED&quot;]</td><td>&quot;Very Positive&quot;</td><td>680264</td><td>324124</td></tr><tr><td>5</td><td>&quot;ELDEN RING&quot;</td><td>&quot;THE CRITICALLY ACCLAIMED FANTA…</td><td>[&quot;Souls-like&quot;, &quot;Dark Fantasy&quot;, … &quot;Family Friendly&quot;]</td><td>2022-02-25</td><td>[&quot;FromSoftware&quot;, &quot;Inc.&quot;]</td><td>[&quot;FromSoftware&quot;, &quot;Inc.&quot;, &quot;Bandai Namco Entertainment&quot;]</td><td>&quot;Very Positive&quot;</td><td>705261</td><td>491741</td></tr><tr><td>&hellip;</td><td>&hellip;</td><td>&hellip;</td><td>&hellip;</td><td>&hellip;</td><td>&hellip;</td><td>&hellip;</td><td>&hellip;</td><td>&hellip;</td><td>&hellip;</td></tr><tr><td>286</td><td>&quot;MXGP PRO&quot;</td><td>&quot;The official video game of the…</td><td>[&quot;Simulation&quot;, &quot;Racing&quot;, … &quot;Offroad&quot;]</td><td>2018-06-29</td><td>[&quot;Milestone S.r.l.&quot;]</td><td>[&quot;Milestone S.r.l.&quot;]</td><td>&quot;Very Positive&quot;</td><td>777</td><td>433</td></tr><tr><td>287</td><td>&quot;MXGP 2019 - The Official Motoc…</td><td>&quot;The official Motocross Champio…</td><td>[&quot;Simulation&quot;, &quot;Racing&quot;, … &quot;Multiplayer&quot;]</td><td>2019-08-27</td><td>[&quot;Milestone S.r.l.&quot;]</td><td>[&quot;Milestone S.r.l.&quot;]</td><td>&quot;Very Positive&quot;</td><td>772</td><td>446</td></tr><tr><td>288</td><td>&quot;Ride 2&quot;</td><td>&quot;Welcome to the temple of motor…</td><td>[&quot;Racing&quot;, &quot;Sports&quot;, … &quot;Controller&quot;]</td><td>2016-10-07</td><td>[&quot;Milestone S.r.l.&quot;]</td><td>[&quot;Milestone S.r.l.&quot;]</td><td>&quot;Very Positive&quot;</td><td>2008</td><td>1045</td></tr><tr><td>289</td><td>&quot;Tanuki Sunset&quot;</td><td>&quot;Grab Your Longboard and Race t…</td><td>[&quot;Racing&quot;, &quot;Action&quot;, … &quot;Casual&quot;]</td><td>2020-12-04</td><td>[&quot;Rewind Games&quot;]</td><td>[&quot;Rewind Games&quot;]</td><td>&quot;Very Positive&quot;</td><td>390</td><td>451</td></tr><tr><td>290</td><td>&quot;Grand Mountain Adventure: Wond…</td><td>&quot;Grand Mountain Adventure: Wond…</td><td>[&quot;Simulation&quot;, &quot;Adventure&quot;, … &quot;Beautiful&quot;]</td><td>2022-03-10</td><td>[&quot;Toppluva AB&quot;]</td><td>[&quot;Microids&quot;]</td><td>&quot;Very Positive&quot;</td><td>184</td><td>246</td></tr></tbody></table></div>"
            ]
          },
          "metadata": {},
          "execution_count": 41
        }
      ]
    },
    {
      "cell_type": "code",
      "source": [
        "df.collect_schema().names()"
      ],
      "metadata": {
        "colab": {
          "base_uri": "https://localhost:8080/"
        },
        "id": "LRj4WBokVxoT",
        "outputId": "04a82061-c975-473c-ce0d-b5df38fa87ac"
      },
      "execution_count": null,
      "outputs": [
        {
          "output_type": "execute_result",
          "data": {
            "text/plain": [
              "['name',\n",
              " 'long_description',\n",
              " 'genres',\n",
              " 'release_date',\n",
              " 'developer',\n",
              " 'publisher',\n",
              " 'overall_player_rating',\n",
              " 'number_of_reviews_from_purchased_people',\n",
              " 'number_of_english_reviews']"
            ]
          },
          "metadata": {},
          "execution_count": 15
        }
      ]
    },
    {
      "cell_type": "code",
      "source": [
        "def create_dimension_n_mapping_tables(df: pl.LazyFrame, id_name: str, nested_column_name: str) -> tuple[pl.DataFrame, pl.DataFrame]:\n",
        "    \"\"\"\n",
        "    Creates a game ID column in the original dataframe and generates genre dimension tables.\n",
        "\n",
        "    Parameters:\n",
        "    df: LazyFrame with a 'genres' column of type list[str]\n",
        "    id_name: str, the name of the ID column in the new dimension table, without the \"_id\" suffix\n",
        "    nested_column_name: str, the name of the nested column in the original dataframe\n",
        "\n",
        "    Returns:\n",
        "    tuple: (games_df, dimension_df, mapping_df)\n",
        "        - dimension_df: DataFrame with genre_id and genre_name\n",
        "        - mapping_df: DataFrame linking game_ids to genre_ids\n",
        "    \"\"\"\n",
        "    exploded = (\n",
        "        df.explode(nested_column_name)\n",
        "    )\n",
        "\n",
        "    dimension_df = (\n",
        "        exploded\n",
        "        .select(nested_column_name)\n",
        "        .unique()\n",
        "        .sort(nested_column_name)\n",
        "        .with_row_index(f\"{id_name}_id\", 1)\n",
        "        .rename({nested_column_name: id_name})\n",
        "        .collect()\n",
        "    )\n",
        "\n",
        "    mapping_df = (\n",
        "        exploded\n",
        "        .join(\n",
        "            dimension_df.lazy(),\n",
        "            left_on=nested_column_name,\n",
        "            right_on=id_name\n",
        "        )\n",
        "        .select([\"game_id\",f\"{id_name}_id\"])\n",
        "        .collect()\n",
        "    )\n",
        "\n",
        "    return dimension_df, mapping_df"
      ],
      "metadata": {
        "id": "0hghXS3yWFui"
      },
      "execution_count": null,
      "outputs": []
    },
    {
      "cell_type": "code",
      "source": [
        "genre_dimension_df, genre_mapping_df = create_dimension_n_mapping_tables(df, \"genre\", \"genres\")"
      ],
      "metadata": {
        "id": "8HWv0_OWWPI9"
      },
      "execution_count": null,
      "outputs": []
    },
    {
      "cell_type": "code",
      "source": [
        "game_id = 1\n",
        "\n",
        "original_genres = (\n",
        "    df\n",
        "    .filter(pl.col(\"game_id\") == game_id)\n",
        "    .select(\"genres\")\n",
        "    .collect()\n",
        "    .item()\n",
        "    .sort()\n",
        "    .to_list()\n",
        ")\n",
        "\n",
        "mapped_genres = (\n",
        "    genre_mapping_df\n",
        "    .lazy()\n",
        "    .filter(pl.col(\"game_id\") == game_id)\n",
        "    .join(\n",
        "        genre_dimension_df.lazy(),\n",
        "        left_on=\"genre_id\",\n",
        "        right_on=\"genre_id\"\n",
        "    )\n",
        "    .select(\"genre\")\n",
        "    .collect()\n",
        "    .get_column(\"genre\")\n",
        "    .sort()\n",
        "    .to_list()\n",
        ")\n",
        "\n",
        "print(\"Original genres:\", original_genres)\n",
        "# e.g. [\"FPS\", \"Moddable\", \"Shooter\"]\n",
        "\n",
        "print(\"Mapped genres:\", mapped_genres)\n",
        "# e.g. [\"FPS\", \"Moddable\", \"Shooter\"]\n",
        "\n",
        "print(\"Matches:\", set(original_genres) == set(mapped_genres))"
      ],
      "metadata": {
        "colab": {
          "base_uri": "https://localhost:8080/"
        },
        "id": "jZoLglDzYlGk",
        "outputId": "b2f9be8c-5367-46f9-ae39-11656782d9f3"
      },
      "execution_count": null,
      "outputs": [
        {
          "output_type": "stream",
          "name": "stdout",
          "text": [
            "Original genres: ['3D', 'Action', 'Action RPG', 'Action-Adventure', 'Adventure', 'Atmospheric', 'Combat', 'Dark Fantasy', 'Difficult', 'Drama', 'Fantasy', 'Hack and Slash', 'Music', 'Mythology', 'RPG', 'Singleplayer', 'Souls-like', 'Story Rich', 'Third Person', 'Violent']\n",
            "Mapped genres: ['3D', 'Action', 'Action RPG', 'Action-Adventure', 'Adventure', 'Atmospheric', 'Combat', 'Dark Fantasy', 'Difficult', 'Drama', 'Fantasy', 'Hack and Slash', 'Music', 'Mythology', 'RPG', 'Singleplayer', 'Souls-like', 'Story Rich', 'Third Person', 'Violent']\n",
            "Matches: True\n"
          ]
        }
      ]
    },
    {
      "cell_type": "code",
      "source": [
        "developer_dimension_df, developer_mapping_df = create_dimension_n_mapping_tables(df, \"developer\", \"developer\")\n",
        "publisher_dimension_df, publisher_mapping_df = create_dimension_n_mapping_tables(df, \"publisher\", \"publisher\")"
      ],
      "metadata": {
        "id": "XiRF4MQTZyEz"
      },
      "execution_count": null,
      "outputs": []
    },
    {
      "cell_type": "code",
      "source": [
        "df = df.drop(\"genres\", \"developer\", \"publisher\")\n",
        "df.collect()"
      ],
      "metadata": {
        "colab": {
          "base_uri": "https://localhost:8080/",
          "height": 463
        },
        "id": "V0eskL_YZ98M",
        "outputId": "0578eb49-f78b-4dfe-b6ac-33e90bc52f0d"
      },
      "execution_count": null,
      "outputs": [
        {
          "output_type": "execute_result",
          "data": {
            "text/plain": [
              "shape: (290, 7)\n",
              "┌─────────┬──────────────┬──────────────┬──────────────┬──────────────┬──────────────┬─────────────┐\n",
              "│ game_id ┆ name         ┆ long_descrip ┆ release_date ┆ overall_play ┆ number_of_re ┆ number_of_e │\n",
              "│ ---     ┆ ---          ┆ tion         ┆ ---          ┆ er_rating    ┆ views_from_p ┆ nglish_revi │\n",
              "│ u32     ┆ str          ┆ ---          ┆ date         ┆ ---          ┆ urchas…      ┆ ews         │\n",
              "│         ┆              ┆ str          ┆              ┆ cat          ┆ ---          ┆ ---         │\n",
              "│         ┆              ┆              ┆              ┆              ┆ i32          ┆ i32         │\n",
              "╞═════════╪══════════════╪══════════════╪══════════════╪══════════════╪══════════════╪═════════════╡\n",
              "│ 1       ┆ Black Myth:  ┆ Black Myth:  ┆ 2024-08-19   ┆ Overwhelming ┆ 654820       ┆ 51931       │\n",
              "│         ┆ Wukong       ┆ Wukong is an ┆              ┆ ly Positive  ┆              ┆             │\n",
              "│         ┆              ┆ actio…       ┆              ┆              ┆              ┆             │\n",
              "│ 2       ┆ Counter-Stri ┆ For over two ┆ 2012-08-21   ┆ Very         ┆ 8313603      ┆ 2258990     │\n",
              "│         ┆ ke 2         ┆ decades,     ┆              ┆ Positive     ┆              ┆             │\n",
              "│         ┆              ┆ Counter-…    ┆              ┆              ┆              ┆             │\n",
              "│ 3       ┆ Warhammer    ┆ Embody the   ┆ 2024-09-09   ┆ Very         ┆ 50860        ┆ 51920       │\n",
              "│         ┆ 40,000:      ┆ superhuman   ┆              ┆ Positive     ┆              ┆             │\n",
              "│         ┆ Space        ┆ skill an…    ┆              ┆              ┆              ┆             │\n",
              "│         ┆ Marine…      ┆              ┆              ┆              ┆              ┆             │\n",
              "│ 4       ┆ Cyberpunk    ┆ Cyberpunk    ┆ 2020-12-10   ┆ Very         ┆ 680264       ┆ 324124      │\n",
              "│         ┆ 2077         ┆ 2077 is an   ┆              ┆ Positive     ┆              ┆             │\n",
              "│         ┆              ┆ open-worl…   ┆              ┆              ┆              ┆             │\n",
              "│ 5       ┆ ELDEN RING   ┆ THE          ┆ 2022-02-25   ┆ Very         ┆ 705261       ┆ 491741      │\n",
              "│         ┆              ┆ CRITICALLY   ┆              ┆ Positive     ┆              ┆             │\n",
              "│         ┆              ┆ ACCLAIMED    ┆              ┆              ┆              ┆             │\n",
              "│         ┆              ┆ FANTA…       ┆              ┆              ┆              ┆             │\n",
              "│ …       ┆ …            ┆ …            ┆ …            ┆ …            ┆ …            ┆ …           │\n",
              "│ 286     ┆ MXGP PRO     ┆ The official ┆ 2018-06-29   ┆ Very         ┆ 777          ┆ 433         │\n",
              "│         ┆              ┆ video game   ┆              ┆ Positive     ┆              ┆             │\n",
              "│         ┆              ┆ of the…      ┆              ┆              ┆              ┆             │\n",
              "│ 287     ┆ MXGP 2019 -  ┆ The official ┆ 2019-08-27   ┆ Very         ┆ 772          ┆ 446         │\n",
              "│         ┆ The Official ┆ Motocross    ┆              ┆ Positive     ┆              ┆             │\n",
              "│         ┆ Motoc…       ┆ Champio…     ┆              ┆              ┆              ┆             │\n",
              "│ 288     ┆ Ride 2       ┆ Welcome to   ┆ 2016-10-07   ┆ Very         ┆ 2008         ┆ 1045        │\n",
              "│         ┆              ┆ the temple   ┆              ┆ Positive     ┆              ┆             │\n",
              "│         ┆              ┆ of motor…    ┆              ┆              ┆              ┆             │\n",
              "│ 289     ┆ Tanuki       ┆ Grab Your    ┆ 2020-12-04   ┆ Very         ┆ 390          ┆ 451         │\n",
              "│         ┆ Sunset       ┆ Longboard    ┆              ┆ Positive     ┆              ┆             │\n",
              "│         ┆              ┆ and Race t…  ┆              ┆              ┆              ┆             │\n",
              "│ 290     ┆ Grand        ┆ Grand        ┆ 2022-03-10   ┆ Very         ┆ 184          ┆ 246         │\n",
              "│         ┆ Mountain     ┆ Mountain     ┆              ┆ Positive     ┆              ┆             │\n",
              "│         ┆ Adventure:   ┆ Adventure:   ┆              ┆              ┆              ┆             │\n",
              "│         ┆ Wond…        ┆ Wond…        ┆              ┆              ┆              ┆             │\n",
              "└─────────┴──────────────┴──────────────┴──────────────┴──────────────┴──────────────┴─────────────┘"
            ],
            "text/html": [
              "<div><style>\n",
              ".dataframe > thead > tr,\n",
              ".dataframe > tbody > tr {\n",
              "  text-align: right;\n",
              "  white-space: pre-wrap;\n",
              "}\n",
              "</style>\n",
              "<small>shape: (290, 7)</small><table border=\"1\" class=\"dataframe\"><thead><tr><th>game_id</th><th>name</th><th>long_description</th><th>release_date</th><th>overall_player_rating</th><th>number_of_reviews_from_purchased_people</th><th>number_of_english_reviews</th></tr><tr><td>u32</td><td>str</td><td>str</td><td>date</td><td>cat</td><td>i32</td><td>i32</td></tr></thead><tbody><tr><td>1</td><td>&quot;Black Myth: Wukong&quot;</td><td>&quot;Black Myth: Wukong is an actio…</td><td>2024-08-19</td><td>&quot;Overwhelmingly Positive&quot;</td><td>654820</td><td>51931</td></tr><tr><td>2</td><td>&quot;Counter-Strike 2&quot;</td><td>&quot;For over two decades, Counter-…</td><td>2012-08-21</td><td>&quot;Very Positive&quot;</td><td>8313603</td><td>2258990</td></tr><tr><td>3</td><td>&quot;Warhammer 40,000: Space Marine…</td><td>&quot;Embody the superhuman skill an…</td><td>2024-09-09</td><td>&quot;Very Positive&quot;</td><td>50860</td><td>51920</td></tr><tr><td>4</td><td>&quot;Cyberpunk 2077&quot;</td><td>&quot;Cyberpunk 2077 is an open-worl…</td><td>2020-12-10</td><td>&quot;Very Positive&quot;</td><td>680264</td><td>324124</td></tr><tr><td>5</td><td>&quot;ELDEN RING&quot;</td><td>&quot;THE CRITICALLY ACCLAIMED FANTA…</td><td>2022-02-25</td><td>&quot;Very Positive&quot;</td><td>705261</td><td>491741</td></tr><tr><td>&hellip;</td><td>&hellip;</td><td>&hellip;</td><td>&hellip;</td><td>&hellip;</td><td>&hellip;</td><td>&hellip;</td></tr><tr><td>286</td><td>&quot;MXGP PRO&quot;</td><td>&quot;The official video game of the…</td><td>2018-06-29</td><td>&quot;Very Positive&quot;</td><td>777</td><td>433</td></tr><tr><td>287</td><td>&quot;MXGP 2019 - The Official Motoc…</td><td>&quot;The official Motocross Champio…</td><td>2019-08-27</td><td>&quot;Very Positive&quot;</td><td>772</td><td>446</td></tr><tr><td>288</td><td>&quot;Ride 2&quot;</td><td>&quot;Welcome to the temple of motor…</td><td>2016-10-07</td><td>&quot;Very Positive&quot;</td><td>2008</td><td>1045</td></tr><tr><td>289</td><td>&quot;Tanuki Sunset&quot;</td><td>&quot;Grab Your Longboard and Race t…</td><td>2020-12-04</td><td>&quot;Very Positive&quot;</td><td>390</td><td>451</td></tr><tr><td>290</td><td>&quot;Grand Mountain Adventure: Wond…</td><td>&quot;Grand Mountain Adventure: Wond…</td><td>2022-03-10</td><td>&quot;Very Positive&quot;</td><td>184</td><td>246</td></tr></tbody></table></div>"
            ]
          },
          "metadata": {},
          "execution_count": 40
        }
      ]
    },
    {
      "cell_type": "markdown",
      "source": [
        "## Final functions"
      ],
      "metadata": {
        "id": "3x1Gw9nnaOeV"
      }
    },
    {
      "cell_type": "code",
      "source": [
        "def create_dimension_n_mapping_tables(df: pl.LazyFrame, id_name: str, nested_column_name: str) -> tuple[pl.LazyFrame, pl.LazyFrame]:\n",
        "    \"\"\"\n",
        "    Creates a game ID column in the original dataframe and generates genre dimension tables.\n",
        "\n",
        "    Parameters:\n",
        "    df: LazyFrame with a 'genres' column of type list[str]\n",
        "    id_name: str, the name of the ID column in the new dimension table, without the \"_id\" suffix\n",
        "    nested_column_name: str, the name of the nested column in the original dataframe\n",
        "\n",
        "    Returns:\n",
        "    tuple: (games_df, dimension_df, mapping_df)\n",
        "        - dimension_df: LazyFrame with id_name_id and id_name\n",
        "        - mapping_df: LazyFrame linking game_ids to id_name_ids\n",
        "    \"\"\"\n",
        "    exploded = (\n",
        "        df.explode(nested_column_name)\n",
        "    )\n",
        "\n",
        "    dimension_df = (\n",
        "        exploded\n",
        "        .select(nested_column_name)\n",
        "        .unique()\n",
        "        .sort(nested_column_name)\n",
        "        .with_row_index(f\"{id_name}_id\", 1)\n",
        "        .rename({nested_column_name: id_name})\n",
        "    )\n",
        "\n",
        "    mapping_df = (\n",
        "        exploded\n",
        "        .join(\n",
        "            dimension_df.lazy(),\n",
        "            left_on=nested_column_name,\n",
        "            right_on=id_name\n",
        "        )\n",
        "        .select([\"game_id\",f\"{id_name}_id\"])\n",
        "    )\n",
        "\n",
        "    return dimension_df, mapping_df\n",
        "\n",
        "def process_games_description() -> None:\n",
        "    def parse_reviews(value):\n",
        "        if \"%\" in value:\n",
        "            # Extract percentage and total number\n",
        "            match = re.search(r\"(\\d+)% of ([\\d,]+)\", value)\n",
        "            if match:\n",
        "                percentage = int(match.group(1))\n",
        "                total = int(match.group(2).replace(\",\", \"\"))\n",
        "                return int((percentage / 100) * total)\n",
        "        else:\n",
        "            # Extract the number directly\n",
        "            match = re.search(r\"\\(([\\d,]+)\\)\", value)\n",
        "            if match:\n",
        "                return int(match.group(1).replace(\",\", \"\"))\n",
        "\n",
        "    df = pl.scan_csv(local_dir / \"games_description.csv\").drop(\"minimum_system_requirement\", \"recommend_system_requirement\", \"link\", \"short_description\")\n",
        "    df = df.with_row_index(\"game_id\", 1)\n",
        "    df = df.with_columns(\n",
        "        pl.col(\"genres\").str.replace_many([\"]\", \"'\", \"[\"], \"\").str.split(\", \"),\n",
        "        pl.col(\"long_description\").str.strip_prefix(\"About This Game\").str.strip_chars(),\n",
        "        pl.col(\"number_of_english_reviews\").str.replace_all(\",\", \"\").cast(pl.Int32),\n",
        "        pl.col([\"developer\", \"publisher\"])\n",
        "        .str.replace_many([\"]\", \"'\", \"[\"], \"\")\n",
        "        .str.split(\", \"),\n",
        "        pl.when(pl.col(\"release_date\").str.contains(r\"\\d{1,2} \\w{3}, \\d{4}\"))\n",
        "        .then(pl.col(\"release_date\").str.to_date(\"%d %b, %Y\", strict=False))\n",
        "        .otherwise(pl.col(\"release_date\").str.to_date(\"%b %Y\", strict=False))\n",
        "        .alias(\"release_date\"),\n",
        "        pl.col(\"number_of_reviews_from_purchased_people\").map_elements(\n",
        "            parse_reviews, return_dtype=pl.Int32\n",
        "        ),\n",
        "    )\n",
        "\n",
        "    df = df.with_columns(\n",
        "        pl.when(pl.col(\"number_of_reviews_from_purchased_people\").is_null())\n",
        "        .then(pl.lit(\"Not enough data\"))\n",
        "        .otherwise(pl.col(\"overall_player_rating\"))\n",
        "        .cast(pl.Categorical(\"lexical\"))\n",
        "        .alias(\"overall_player_rating\"),\n",
        "        pl.when(pl.col(\"number_of_reviews_from_purchased_people\").is_null())\n",
        "        .then(pl.col(\"overall_player_rating\").str.extract(r\"(\\d+)\").cast(pl.Int32))\n",
        "        .otherwise(pl.col(\"number_of_reviews_from_purchased_people\"))\n",
        "        .alias(\"number_of_reviews_from_purchased_people\"),\n",
        "    )\n",
        "    genre_dimension_df, genre_mapping_df = create_dimension_n_mapping_tables(df, \"genre\", \"genres\")\n",
        "    developer_dimension_df, developer_mapping_df = create_dimension_n_mapping_tables(df, \"developer\", \"developer\")\n",
        "    publisher_dimension_df, publisher_mapping_df = create_dimension_n_mapping_tables(df, \"publisher\", \"publisher\")\n",
        "    df = df.drop(\"genres\", \"developer\", \"publisher\")\n",
        "    destination_dir = local_dir / \"processed\"\n",
        "    destination_dir.mkdir(exist_ok=True, parents=True)\n",
        "    df.collect().write_parquet(destination_dir / \"games_description.parquet\")\n",
        "    genre_dimension_df.collect().write_parquet(destination_dir / \"genre_dimension.parquet\")\n",
        "    genre_mapping_df.collect().write_parquet(destination_dir / \"genre_mapping.parquet\")\n",
        "    developer_dimension_df.collect().write_parquet(destination_dir / \"developer_dimension.parquet\")\n",
        "    developer_mapping_df.collect().write_parquet(destination_dir / \"developer_mapping.parquet\")\n",
        "    publisher_dimension_df.collect().write_parquet(destination_dir / \"publisher_dimension.parquet\")\n",
        "    publisher_mapping_df.collect().write_parquet(destination_dir / \"publisher_mapping.parquet\")\n",
        "\n",
        "process_games_description()"
      ],
      "metadata": {
        "id": "YSZrosdsaPh8"
      },
      "execution_count": 4,
      "outputs": []
    },
    {
      "cell_type": "code",
      "source": [
        "!huggingface-cli login"
      ],
      "metadata": {
        "colab": {
          "base_uri": "https://localhost:8080/"
        },
        "id": "Dmtcx7E1dzdm",
        "outputId": "e3ce9310-1046-4c74-c4fc-6bfd53a89c30"
      },
      "execution_count": 5,
      "outputs": [
        {
          "output_type": "stream",
          "name": "stdout",
          "text": [
            "\n",
            "    _|    _|  _|    _|    _|_|_|    _|_|_|  _|_|_|  _|      _|    _|_|_|      _|_|_|_|    _|_|      _|_|_|  _|_|_|_|\n",
            "    _|    _|  _|    _|  _|        _|          _|    _|_|    _|  _|            _|        _|    _|  _|        _|\n",
            "    _|_|_|_|  _|    _|  _|  _|_|  _|  _|_|    _|    _|  _|  _|  _|  _|_|      _|_|_|    _|_|_|_|  _|        _|_|_|\n",
            "    _|    _|  _|    _|  _|    _|  _|    _|    _|    _|    _|_|  _|    _|      _|        _|    _|  _|        _|\n",
            "    _|    _|    _|_|      _|_|_|    _|_|_|  _|_|_|  _|      _|    _|_|_|      _|        _|    _|    _|_|_|  _|_|_|_|\n",
            "\n",
            "    To log in, `huggingface_hub` requires a token generated from https://huggingface.co/settings/tokens .\n",
            "Enter your token (input will not be visible): \n",
            "Add token as git credential? (Y/n) Y\n",
            "Token is valid (permission: write).\n",
            "The token `Write Token` has been saved to /root/.cache/huggingface/stored_tokens\n",
            "\u001b[1m\u001b[31mCannot authenticate through git-credential as no helper is defined on your machine.\n",
            "You might have to re-authenticate when pushing to the Hugging Face Hub.\n",
            "Run the following command in your terminal in case you want to set the 'store' credential helper as default.\n",
            "\n",
            "git config --global credential.helper store\n",
            "\n",
            "Read https://git-scm.com/book/en/v2/Git-Tools-Credential-Storage for more details.\u001b[0m\n",
            "Token has not been saved to git credential helper.\n",
            "Your token has been saved to /root/.cache/huggingface/token\n",
            "Login successful.\n",
            "The current active token is: `Write Token`\n"
          ]
        }
      ]
    },
    {
      "cell_type": "code",
      "source": [
        "!huggingface-cli upload HangenYuu/Steam_Games_Review /content/data/raw ./raw --repo-type=dataset"
      ],
      "metadata": {
        "colab": {
          "base_uri": "https://localhost:8080/"
        },
        "id": "noa_JAHxenf0",
        "outputId": "c175d5a7-b942-42ef-c779-ac14df148d99"
      },
      "execution_count": 6,
      "outputs": [
        {
          "output_type": "stream",
          "name": "stdout",
          "text": [
            "Consider using `hf_transfer` for faster uploads. This solution comes with some limitations. See https://huggingface.co/docs/huggingface_hub/hf_transfer for more details.\n",
            "Start hashing 3 files.\n",
            "Finished hashing 3 files.\n",
            "https://huggingface.co/datasets/HangenYuu/Steam_Games_Review/tree/main/./raw\n"
          ]
        }
      ]
    },
    {
      "cell_type": "code",
      "source": [
        "!huggingface-cli upload HangenYuu/Steam_Games_Review /content/data/processed ./processed --repo-type=dataset"
      ],
      "metadata": {
        "colab": {
          "base_uri": "https://localhost:8080/"
        },
        "id": "lsVxHw-vdGg_",
        "outputId": "825fc15a-3358-4148-e95a-e35c6f64c478"
      },
      "execution_count": 7,
      "outputs": [
        {
          "output_type": "stream",
          "name": "stdout",
          "text": [
            "Consider using `hf_transfer` for faster uploads. This solution comes with some limitations. See https://huggingface.co/docs/huggingface_hub/hf_transfer for more details.\n",
            "Start hashing 7 files.\n",
            "Finished hashing 7 files.\n",
            "developer_dimension.parquet:   0% 0.00/3.88k [00:00<?, ?B/s]\n",
            "developer_mapping.parquet:   0% 0.00/2.62k [00:00<?, ?B/s]\u001b[A\n",
            "\n",
            "games_description.parquet:   0% 0.00/243k [00:00<?, ?B/s]\u001b[A\u001b[A\n",
            "\n",
            "\n",
            "\n",
            "genre_dimension.parquet:   0% 0.00/4.28k [00:00<?, ?B/s]\u001b[A\u001b[A\u001b[A\u001b[A\n",
            "\n",
            "\n",
            "\n",
            "\n",
            "Upload 7 LFS files:   0% 0/7 [00:00<?, ?it/s]\u001b[A\u001b[A\u001b[A\u001b[A\u001b[A\n",
            "\n",
            "\n",
            "developer_mapping.parquet: 100% 2.62k/2.62k [00:00<00:00, 27.4kB/s]\n",
            "genre_dimension.parquet: 100% 4.28k/4.28k [00:00<00:00, 40.2kB/s]\n",
            "genre_mapping.parquet: 100% 8.81k/8.81k [00:00<00:00, 83.4kB/s]\n",
            "developer_dimension.parquet: 100% 3.88k/3.88k [00:00<00:00, 31.0kB/s]\n",
            "publisher_dimension.parquet:   0% 0.00/3.24k [00:00<?, ?B/s]\n",
            "publisher_dimension.parquet: 100% 3.24k/3.24k [00:00<00:00, 47.3kB/s]\n",
            "games_description.parquet: 100% 243k/243k [00:00<00:00, 800kB/s]\n",
            "\n",
            "\n",
            "\n",
            "\n",
            "\n",
            "publisher_mapping.parquet: 100% 2.43k/2.43k [00:00<00:00, 17.2kB/s]\n",
            "Upload 7 LFS files: 100% 7/7 [00:00<00:00, 17.98it/s]\n",
            "https://huggingface.co/datasets/HangenYuu/Steam_Games_Review/tree/main/./processed\n"
          ]
        }
      ]
    },
    {
      "cell_type": "markdown",
      "source": [
        "# Users Table from steam_game_reviews.csv\n",
        "**Note**: The repo structure changed from the last operation, so the path changed."
      ],
      "metadata": {
        "id": "1hvzOTqQe-Qd"
      }
    },
    {
      "cell_type": "code",
      "source": [
        "%%capture\n",
        "!pip install huggingface-hub[hf_transfer] polars==1.9.0 -U"
      ],
      "metadata": {
        "id": "8LzB_FEDe971"
      },
      "execution_count": 1,
      "outputs": []
    },
    {
      "cell_type": "code",
      "source": [
        "%%capture\n",
        "!huggingface-cli download HangenYuu/Steam_Games_Review --repo-type dataset --local-dir ./data"
      ],
      "metadata": {
        "id": "KRkfuonUfKy9"
      },
      "execution_count": 2,
      "outputs": []
    },
    {
      "cell_type": "code",
      "source": [
        "import polars as pl\n",
        "from pathlib import Path\n",
        "from datetime import datetime\n",
        "import re\n",
        "\n",
        "raw_dir = Path(\"/content/data/raw\")\n",
        "processed_dir = Path(\"/content/data/processed\")"
      ],
      "metadata": {
        "id": "3d-9RLuPfLUL"
      },
      "execution_count": 23,
      "outputs": []
    },
    {
      "cell_type": "code",
      "source": [
        "df = pl.scan_csv(raw_dir / \"steam_game_reviews.csv\", infer_schema_length=10000)\n",
        "\n",
        "df = df.with_columns(\n",
        "    pl.col(\"hours_played\").str.replace_all(\",\", \"\").cast(pl.Float32),\n",
        "    pl.col([\"helpful\", \"funny\"]).str.replace_all(\",\", \"\").cast(pl.Int64),\n",
        "    pl.when(pl.col(\"recommendation\") == \"Recommended\")\n",
        "    .then(True)\n",
        "    .otherwise(False)\n",
        "    .alias(\"recommendation\"),\n",
        "    pl.when(\n",
        "        ~(\n",
        "            (pl.col(\"date\").str.contains(r\"\\w+ \\d{1,2},\\s\\d{4}\"))\n",
        "            | pl.col(\"date\").str.contains(r\"\\d{1,2} \\w+,\\s\\d{4}\")\n",
        "        )\n",
        "    )\n",
        "    .then(pl.concat_str([pl.col(\"date\"), pl.lit(\", \" + str(datetime.now().year))]))\n",
        "    .otherwise(pl.col(\"date\"))\n",
        "    .alias(\"date\"),\n",
        "    pl.when(pl.col(\"username\").str.contains(\"\\n\"))\n",
        "    .then(pl.col(\"username\").str.extract(r\"^(.*?)\\n\"))\n",
        "    .otherwise(pl.col(\"username\").fill_null(\"anonymous\")),\n",
        ")\n",
        "df = df.with_columns(\n",
        "    pl.when(pl.col(\"date\").str.contains(r\"\\w+\\s\\d{1,2},\\s\\d{4}\"))\n",
        "    .then(pl.col(\"date\").str.to_date(\"%B %d, %Y\", strict=False))\n",
        "    .when(pl.col(\"date\").str.contains(r\"\\d{1,2}\\s\\w+,\\s\\d{4}\"))\n",
        "    .then(pl.col(\"date\").str.to_date(\"%d %B, %Y\", strict=False))\n",
        ")"
      ],
      "metadata": {
        "id": "ugPxmPvj-wNX"
      },
      "execution_count": 12,
      "outputs": []
    },
    {
      "cell_type": "code",
      "source": [
        "df.collect()"
      ],
      "metadata": {
        "colab": {
          "base_uri": "https://localhost:8080/",
          "height": 463
        },
        "id": "vJKoHXi2_Mj3",
        "outputId": "65618f58-a55a-4c90-84b0-ff8872da997b"
      },
      "execution_count": 16,
      "outputs": [
        {
          "output_type": "execute_result",
          "data": {
            "text/plain": [
              "shape: (992_153, 8)\n",
              "┌─────────────┬─────────────┬─────────┬───────┬─────────────┬────────────┬────────────┬────────────┐\n",
              "│ review      ┆ hours_playe ┆ helpful ┆ funny ┆ recommendat ┆ date       ┆ game_name  ┆ username   │\n",
              "│ ---         ┆ d           ┆ ---     ┆ ---   ┆ ion         ┆ ---        ┆ ---        ┆ ---        │\n",
              "│ str         ┆ ---         ┆ i64     ┆ i64   ┆ ---         ┆ date       ┆ str        ┆ str        │\n",
              "│             ┆ f32         ┆         ┆       ┆ bool        ┆            ┆            ┆            │\n",
              "╞═════════════╪═════════════╪═════════╪═══════╪═════════════╪════════════╪════════════╪════════════╡\n",
              "│ The game    ┆ 39.900002   ┆ 1152    ┆ 13    ┆ true        ┆ 2024-09-14 ┆ Warhammer  ┆ Sentinowl  │\n",
              "│ itself is   ┆             ┆         ┆       ┆             ┆            ┆ 40,000:    ┆            │\n",
              "│ also super  ┆             ┆         ┆       ┆             ┆            ┆ Space      ┆            │\n",
              "│ …           ┆             ┆         ┆       ┆             ┆            ┆ Marine…    ┆            │\n",
              "│ Never cared ┆ 91.5        ┆ 712     ┆ 116   ┆ true        ┆ 2024-09-13 ┆ Warhammer  ┆ userpig    │\n",
              "│ much about  ┆             ┆         ┆       ┆             ┆            ┆ 40,000:    ┆            │\n",
              "│ Warhamm…    ┆             ┆         ┆       ┆             ┆            ┆ Space      ┆            │\n",
              "│             ┆             ┆         ┆       ┆             ┆            ┆ Marine…    ┆            │\n",
              "│ A salute to ┆ 43.299999   ┆ 492     ┆ 33    ┆ true        ┆ 2024-09-14 ┆ Warhammer  ┆ Imparat0r  │\n",
              "│ all the     ┆             ┆         ┆       ┆             ┆            ┆ 40,000:    ┆            │\n",
              "│ fallen bat… ┆             ┆         ┆       ┆             ┆            ┆ Space      ┆            │\n",
              "│             ┆             ┆         ┆       ┆             ┆            ┆ Marine…    ┆            │\n",
              "│ this game   ┆ 16.799999   ┆ 661     ┆ 15    ┆ true        ┆ 2024-09-14 ┆ Warhammer  ┆ Fattest_fa │\n",
              "│ feels like  ┆             ┆         ┆       ┆             ┆            ┆ 40,000:    ┆ lcon       │\n",
              "│ it was ma…  ┆             ┆         ┆       ┆             ┆            ┆ Space      ┆            │\n",
              "│             ┆             ┆         ┆       ┆             ┆            ┆ Marine…    ┆            │\n",
              "│ Reminds me  ┆ 24.0        ┆ 557     ┆ 4     ┆ true        ┆ 2024-09-12 ┆ Warhammer  ┆ Jek        │\n",
              "│ of          ┆             ┆         ┆       ┆             ┆            ┆ 40,000:    ┆            │\n",
              "│ something   ┆             ┆         ┆       ┆             ┆            ┆ Space      ┆            │\n",
              "│ I've l…     ┆             ┆         ┆       ┆             ┆            ┆ Marine…    ┆            │\n",
              "│ …           ┆ …           ┆ …       ┆ …     ┆ …           ┆ …          ┆ …          ┆ …          │\n",
              "│ 2022 Early  ┆ 4.2         ┆ 1       ┆ 0     ┆ true        ┆ 2022-08-04 ┆ Turbo Golf ┆ Fatal Exit │\n",
              "│ Access      ┆             ┆         ┆       ┆             ┆            ┆ Racing     ┆            │\n",
              "│ Review      ┆             ┆         ┆       ┆             ┆            ┆            ┆            │\n",
              "│ Loads…      ┆             ┆         ┆       ┆             ┆            ┆            ┆            │\n",
              "│ 2022 Early  ┆ 8.5         ┆ 1       ┆ 0     ┆ true        ┆ 2022-08-04 ┆ Turbo Golf ┆ cleybaR    │\n",
              "│ Access      ┆             ┆         ┆       ┆             ┆            ┆ Racing     ┆            │\n",
              "│ Review      ┆             ┆         ┆       ┆             ┆            ┆            ┆            │\n",
              "│ Great…      ┆             ┆         ┆       ┆             ┆            ┆            ┆            │\n",
              "│ 2022 Early  ┆ 83.300003   ┆ 2       ┆ 0     ┆ true        ┆ 2022-08-04 ┆ Turbo Golf ┆ Sim        │\n",
              "│ Access      ┆             ┆         ┆       ┆             ┆            ┆ Racing     ┆            │\n",
              "│ Review      ┆             ┆         ┆       ┆             ┆            ┆            ┆            │\n",
              "│ Excel…      ┆             ┆         ┆       ┆             ┆            ┆            ┆            │\n",
              "│ 2022 Early  ┆ 3.8         ┆ 1       ┆ 0     ┆ true        ┆ 2022-08-04 ┆ Turbo Golf ┆ Fatboybadb │\n",
              "│ Access      ┆             ┆         ┆       ┆             ┆            ┆ Racing     ┆ oy         │\n",
              "│ Review This ┆             ┆         ┆       ┆             ┆            ┆            ┆            │\n",
              "│ …           ┆             ┆         ┆       ┆             ┆            ┆            ┆            │\n",
              "│ 2022 Early  ┆ 315.299988  ┆ 0       ┆ 0     ┆ false       ┆ 2022-08-04 ┆ Turbo Golf ┆ Wolfy      │\n",
              "│ Access      ┆             ┆         ┆       ┆             ┆            ┆ Racing     ┆            │\n",
              "│ Review Im   ┆             ┆         ┆       ┆             ┆            ┆            ┆            │\n",
              "│ in…         ┆             ┆         ┆       ┆             ┆            ┆            ┆            │\n",
              "└─────────────┴─────────────┴─────────┴───────┴─────────────┴────────────┴────────────┴────────────┘"
            ],
            "text/html": [
              "<div><style>\n",
              ".dataframe > thead > tr,\n",
              ".dataframe > tbody > tr {\n",
              "  text-align: right;\n",
              "  white-space: pre-wrap;\n",
              "}\n",
              "</style>\n",
              "<small>shape: (992_153, 8)</small><table border=\"1\" class=\"dataframe\"><thead><tr><th>review</th><th>hours_played</th><th>helpful</th><th>funny</th><th>recommendation</th><th>date</th><th>game_name</th><th>username</th></tr><tr><td>str</td><td>f32</td><td>i64</td><td>i64</td><td>bool</td><td>date</td><td>str</td><td>str</td></tr></thead><tbody><tr><td>&quot;The game itself is also super …</td><td>39.900002</td><td>1152</td><td>13</td><td>true</td><td>2024-09-14</td><td>&quot;Warhammer 40,000: Space Marine…</td><td>&quot;Sentinowl&quot;</td></tr><tr><td>&quot;Never cared much about Warhamm…</td><td>91.5</td><td>712</td><td>116</td><td>true</td><td>2024-09-13</td><td>&quot;Warhammer 40,000: Space Marine…</td><td>&quot;userpig&quot;</td></tr><tr><td>&quot;A salute to all the fallen bat…</td><td>43.299999</td><td>492</td><td>33</td><td>true</td><td>2024-09-14</td><td>&quot;Warhammer 40,000: Space Marine…</td><td>&quot;Imparat0r&quot;</td></tr><tr><td>&quot;this game feels like it was ma…</td><td>16.799999</td><td>661</td><td>15</td><td>true</td><td>2024-09-14</td><td>&quot;Warhammer 40,000: Space Marine…</td><td>&quot;Fattest_falcon&quot;</td></tr><tr><td>&quot;Reminds me of something I&#x27;ve l…</td><td>24.0</td><td>557</td><td>4</td><td>true</td><td>2024-09-12</td><td>&quot;Warhammer 40,000: Space Marine…</td><td>&quot;Jek&quot;</td></tr><tr><td>&hellip;</td><td>&hellip;</td><td>&hellip;</td><td>&hellip;</td><td>&hellip;</td><td>&hellip;</td><td>&hellip;</td><td>&hellip;</td></tr><tr><td>&quot;2022 Early Access Review Loads…</td><td>4.2</td><td>1</td><td>0</td><td>true</td><td>2022-08-04</td><td>&quot;Turbo Golf Racing&quot;</td><td>&quot;Fatal Exit&quot;</td></tr><tr><td>&quot;2022 Early Access Review Great…</td><td>8.5</td><td>1</td><td>0</td><td>true</td><td>2022-08-04</td><td>&quot;Turbo Golf Racing&quot;</td><td>&quot;cleybaR&quot;</td></tr><tr><td>&quot;2022 Early Access Review Excel…</td><td>83.300003</td><td>2</td><td>0</td><td>true</td><td>2022-08-04</td><td>&quot;Turbo Golf Racing&quot;</td><td>&quot;Sim&quot;</td></tr><tr><td>&quot;2022 Early Access Review This …</td><td>3.8</td><td>1</td><td>0</td><td>true</td><td>2022-08-04</td><td>&quot;Turbo Golf Racing&quot;</td><td>&quot;Fatboybadboy&quot;</td></tr><tr><td>&quot;2022 Early Access Review Im in…</td><td>315.299988</td><td>0</td><td>0</td><td>false</td><td>2022-08-04</td><td>&quot;Turbo Golf Racing&quot;</td><td>&quot;Wolfy&quot;</td></tr></tbody></table></div>"
            ]
          },
          "metadata": {},
          "execution_count": 16
        }
      ]
    },
    {
      "cell_type": "code",
      "source": [
        "games_description_df = pl.scan_parquet(processed_dir / \"games_description.parquet\").select(\"game_id\", \"name\")\n",
        "games_description_df.collect()"
      ],
      "metadata": {
        "colab": {
          "base_uri": "https://localhost:8080/",
          "height": 463
        },
        "id": "PgAY-bFs_vau",
        "outputId": "d8439c6c-5d2c-4b88-daf6-6552cd69d460"
      },
      "execution_count": 18,
      "outputs": [
        {
          "output_type": "execute_result",
          "data": {
            "text/plain": [
              "shape: (290, 2)\n",
              "┌─────────┬─────────────────────────────────┐\n",
              "│ game_id ┆ name                            │\n",
              "│ ---     ┆ ---                             │\n",
              "│ u32     ┆ str                             │\n",
              "╞═════════╪═════════════════════════════════╡\n",
              "│ 1       ┆ Black Myth: Wukong              │\n",
              "│ 2       ┆ Counter-Strike 2                │\n",
              "│ 3       ┆ Warhammer 40,000: Space Marine… │\n",
              "│ 4       ┆ Cyberpunk 2077                  │\n",
              "│ 5       ┆ ELDEN RING                      │\n",
              "│ …       ┆ …                               │\n",
              "│ 286     ┆ MXGP PRO                        │\n",
              "│ 287     ┆ MXGP 2019 - The Official Motoc… │\n",
              "│ 288     ┆ Ride 2                          │\n",
              "│ 289     ┆ Tanuki Sunset                   │\n",
              "│ 290     ┆ Grand Mountain Adventure: Wond… │\n",
              "└─────────┴─────────────────────────────────┘"
            ],
            "text/html": [
              "<div><style>\n",
              ".dataframe > thead > tr,\n",
              ".dataframe > tbody > tr {\n",
              "  text-align: right;\n",
              "  white-space: pre-wrap;\n",
              "}\n",
              "</style>\n",
              "<small>shape: (290, 2)</small><table border=\"1\" class=\"dataframe\"><thead><tr><th>game_id</th><th>name</th></tr><tr><td>u32</td><td>str</td></tr></thead><tbody><tr><td>1</td><td>&quot;Black Myth: Wukong&quot;</td></tr><tr><td>2</td><td>&quot;Counter-Strike 2&quot;</td></tr><tr><td>3</td><td>&quot;Warhammer 40,000: Space Marine…</td></tr><tr><td>4</td><td>&quot;Cyberpunk 2077&quot;</td></tr><tr><td>5</td><td>&quot;ELDEN RING&quot;</td></tr><tr><td>&hellip;</td><td>&hellip;</td></tr><tr><td>286</td><td>&quot;MXGP PRO&quot;</td></tr><tr><td>287</td><td>&quot;MXGP 2019 - The Official Motoc…</td></tr><tr><td>288</td><td>&quot;Ride 2&quot;</td></tr><tr><td>289</td><td>&quot;Tanuki Sunset&quot;</td></tr><tr><td>290</td><td>&quot;Grand Mountain Adventure: Wond…</td></tr></tbody></table></div>"
            ]
          },
          "metadata": {},
          "execution_count": 18
        }
      ]
    },
    {
      "cell_type": "code",
      "source": [
        "users_df = (\n",
        "    df\n",
        "    .select(\"username\")\n",
        "    .unique()\n",
        "    .with_row_index(f\"user_id\", 1)\n",
        ")\n",
        "users_df.collect()"
      ],
      "metadata": {
        "colab": {
          "base_uri": "https://localhost:8080/",
          "height": 463
        },
        "id": "WW4cnz-eBM69",
        "outputId": "ee0b016c-3742-4d1b-ef06-cc0477f8b055"
      },
      "execution_count": 20,
      "outputs": [
        {
          "output_type": "execute_result",
          "data": {
            "text/plain": [
              "shape: (701_973, 2)\n",
              "┌─────────┬──────────────────────┐\n",
              "│ user_id ┆ username             │\n",
              "│ ---     ┆ ---                  │\n",
              "│ u32     ┆ str                  │\n",
              "╞═════════╪══════════════════════╡\n",
              "│ 1       ┆ Phoenix Oath         │\n",
              "│ 2       ┆ junesky              │\n",
              "│ 3       ┆ inflammab1e          │\n",
              "│ 4       ┆ beserker             │\n",
              "│ 5       ┆ The Denogginizer     │\n",
              "│ …       ┆ …                    │\n",
              "│ 701969  ┆ Walrus Clan (Wally)  │\n",
              "│ 701970  ┆ baldguy069           │\n",
              "│ 701971  ┆ alwaysbeyou91        │\n",
              "│ 701972  ┆ 優雅 | onion inhaler │\n",
              "│ 701973  ┆ Supreme-Fudge-Packer │\n",
              "└─────────┴──────────────────────┘"
            ],
            "text/html": [
              "<div><style>\n",
              ".dataframe > thead > tr,\n",
              ".dataframe > tbody > tr {\n",
              "  text-align: right;\n",
              "  white-space: pre-wrap;\n",
              "}\n",
              "</style>\n",
              "<small>shape: (701_973, 2)</small><table border=\"1\" class=\"dataframe\"><thead><tr><th>user_id</th><th>username</th></tr><tr><td>u32</td><td>str</td></tr></thead><tbody><tr><td>1</td><td>&quot;Phoenix Oath&quot;</td></tr><tr><td>2</td><td>&quot;junesky&quot;</td></tr><tr><td>3</td><td>&quot;inflammab1e&quot;</td></tr><tr><td>4</td><td>&quot;beserker&quot;</td></tr><tr><td>5</td><td>&quot;The Denogginizer&quot;</td></tr><tr><td>&hellip;</td><td>&hellip;</td></tr><tr><td>701969</td><td>&quot;Walrus Clan (Wally)&quot;</td></tr><tr><td>701970</td><td>&quot;baldguy069&quot;</td></tr><tr><td>701971</td><td>&quot;alwaysbeyou91&quot;</td></tr><tr><td>701972</td><td>&quot;優雅 | onion inhaler&quot;</td></tr><tr><td>701973</td><td>&quot;Supreme-Fudge-Packer&quot;</td></tr></tbody></table></div>"
            ]
          },
          "metadata": {},
          "execution_count": 20
        }
      ]
    },
    {
      "cell_type": "code",
      "source": [
        "updated_reviews_df = (\n",
        "    df\n",
        "    # Join with users to get user_id\n",
        "    .join(\n",
        "        users_df,\n",
        "        left_on=\"username\",\n",
        "        right_on=\"username\"\n",
        "    )\n",
        "    # Join with games to get game_id\n",
        "    .join(\n",
        "        games_description_df,\n",
        "        left_on=\"game_name\",\n",
        "        right_on=\"name\"\n",
        "    )\n",
        "    # Drop columns replaced with IDs\n",
        "    .select(pl.all().exclude(\"game_name\", \"username\"))\n",
        ")\n",
        "updated_reviews_df.collect()"
      ],
      "metadata": {
        "colab": {
          "base_uri": "https://localhost:8080/",
          "height": 463
        },
        "id": "irLIf-_lBZc-",
        "outputId": "0a4540c1-4f04-4fca-ab6f-8f34c40b2720"
      },
      "execution_count": 22,
      "outputs": [
        {
          "output_type": "execute_result",
          "data": {
            "text/plain": [
              "shape: (925_244, 8)\n",
              "┌────────────────┬──────────────┬─────────┬───────┬───────────────┬────────────┬─────────┬─────────┐\n",
              "│ review         ┆ hours_played ┆ helpful ┆ funny ┆ recommendatio ┆ date       ┆ user_id ┆ game_id │\n",
              "│ ---            ┆ ---          ┆ ---     ┆ ---   ┆ n             ┆ ---        ┆ ---     ┆ ---     │\n",
              "│ str            ┆ f32          ┆ i64     ┆ i64   ┆ ---           ┆ date       ┆ u32     ┆ u32     │\n",
              "│                ┆              ┆         ┆       ┆ bool          ┆            ┆         ┆         │\n",
              "╞════════════════╪══════════════╪═════════╪═══════╪═══════════════╪════════════╪═════════╪═════════╡\n",
              "│ The game       ┆ 39.900002    ┆ 1152    ┆ 13    ┆ true          ┆ 2024-09-14 ┆ 147708  ┆ 3       │\n",
              "│ itself is also ┆              ┆         ┆       ┆               ┆            ┆         ┆         │\n",
              "│ super …        ┆              ┆         ┆       ┆               ┆            ┆         ┆         │\n",
              "│ Never cared    ┆ 91.5         ┆ 712     ┆ 116   ┆ true          ┆ 2024-09-13 ┆ 562937  ┆ 3       │\n",
              "│ much about     ┆              ┆         ┆       ┆               ┆            ┆         ┆         │\n",
              "│ Warhamm…       ┆              ┆         ┆       ┆               ┆            ┆         ┆         │\n",
              "│ A salute to    ┆ 43.299999    ┆ 492     ┆ 33    ┆ true          ┆ 2024-09-14 ┆ 408104  ┆ 3       │\n",
              "│ all the fallen ┆              ┆         ┆       ┆               ┆            ┆         ┆         │\n",
              "│ bat…           ┆              ┆         ┆       ┆               ┆            ┆         ┆         │\n",
              "│ this game      ┆ 16.799999    ┆ 661     ┆ 15    ┆ true          ┆ 2024-09-14 ┆ 436735  ┆ 3       │\n",
              "│ feels like it  ┆              ┆         ┆       ┆               ┆            ┆         ┆         │\n",
              "│ was ma…        ┆              ┆         ┆       ┆               ┆            ┆         ┆         │\n",
              "│ Reminds me of  ┆ 24.0         ┆ 557     ┆ 4     ┆ true          ┆ 2024-09-12 ┆ 603056  ┆ 3       │\n",
              "│ something I've ┆              ┆         ┆       ┆               ┆            ┆         ┆         │\n",
              "│ l…             ┆              ┆         ┆       ┆               ┆            ┆         ┆         │\n",
              "│ …              ┆ …            ┆ …       ┆ …     ┆ …             ┆ …          ┆ …       ┆ …       │\n",
              "│ 2021 Early     ┆ 124.0        ┆ 0       ┆ 0     ┆ true          ┆ 2021-12-20 ┆ 57422   ┆ 283     │\n",
              "│ Access Review  ┆              ┆         ┆       ┆               ┆            ┆         ┆         │\n",
              "│ nooii…         ┆              ┆         ┆       ┆               ┆            ┆         ┆         │\n",
              "│ 2021 Early     ┆ 750.299988   ┆ 0       ┆ 0     ┆ true          ┆ 2021-12-19 ┆ 327496  ┆ 283     │\n",
              "│ Access Review  ┆              ┆         ┆       ┆               ┆            ┆         ┆         │\n",
              "│ great…         ┆              ┆         ┆       ┆               ┆            ┆         ┆         │\n",
              "│ 2021 Early     ┆ 212.399994   ┆ 0       ┆ 0     ┆ true          ┆ 2021-12-18 ┆ 650298  ┆ 283     │\n",
              "│ Access Review  ┆              ┆         ┆       ┆               ┆            ┆         ┆         │\n",
              "│ Great…         ┆              ┆         ┆       ┆               ┆            ┆         ┆         │\n",
              "│ 2021 Early     ┆ 23.200001    ┆ 1       ┆ 0     ┆ true          ┆ 2021-12-21 ┆ 295973  ┆ 283     │\n",
              "│ Access Review  ┆              ┆         ┆       ┆               ┆            ┆         ┆         │\n",
              "│ I've …         ┆              ┆         ┆       ┆               ┆            ┆         ┆         │\n",
              "│ 2021 Early     ┆ 144.0        ┆ 1       ┆ 0     ┆ true          ┆ 2021-12-21 ┆ 334389  ┆ 283     │\n",
              "│ Access Review  ┆              ┆         ┆       ┆               ┆            ┆         ┆         │\n",
              "│ Bruh …         ┆              ┆         ┆       ┆               ┆            ┆         ┆         │\n",
              "└────────────────┴──────────────┴─────────┴───────┴───────────────┴────────────┴─────────┴─────────┘"
            ],
            "text/html": [
              "<div><style>\n",
              ".dataframe > thead > tr,\n",
              ".dataframe > tbody > tr {\n",
              "  text-align: right;\n",
              "  white-space: pre-wrap;\n",
              "}\n",
              "</style>\n",
              "<small>shape: (925_244, 8)</small><table border=\"1\" class=\"dataframe\"><thead><tr><th>review</th><th>hours_played</th><th>helpful</th><th>funny</th><th>recommendation</th><th>date</th><th>user_id</th><th>game_id</th></tr><tr><td>str</td><td>f32</td><td>i64</td><td>i64</td><td>bool</td><td>date</td><td>u32</td><td>u32</td></tr></thead><tbody><tr><td>&quot;The game itself is also super …</td><td>39.900002</td><td>1152</td><td>13</td><td>true</td><td>2024-09-14</td><td>147708</td><td>3</td></tr><tr><td>&quot;Never cared much about Warhamm…</td><td>91.5</td><td>712</td><td>116</td><td>true</td><td>2024-09-13</td><td>562937</td><td>3</td></tr><tr><td>&quot;A salute to all the fallen bat…</td><td>43.299999</td><td>492</td><td>33</td><td>true</td><td>2024-09-14</td><td>408104</td><td>3</td></tr><tr><td>&quot;this game feels like it was ma…</td><td>16.799999</td><td>661</td><td>15</td><td>true</td><td>2024-09-14</td><td>436735</td><td>3</td></tr><tr><td>&quot;Reminds me of something I&#x27;ve l…</td><td>24.0</td><td>557</td><td>4</td><td>true</td><td>2024-09-12</td><td>603056</td><td>3</td></tr><tr><td>&hellip;</td><td>&hellip;</td><td>&hellip;</td><td>&hellip;</td><td>&hellip;</td><td>&hellip;</td><td>&hellip;</td><td>&hellip;</td></tr><tr><td>&quot;2021 Early Access Review nooii…</td><td>124.0</td><td>0</td><td>0</td><td>true</td><td>2021-12-20</td><td>57422</td><td>283</td></tr><tr><td>&quot;2021 Early Access Review great…</td><td>750.299988</td><td>0</td><td>0</td><td>true</td><td>2021-12-19</td><td>327496</td><td>283</td></tr><tr><td>&quot;2021 Early Access Review Great…</td><td>212.399994</td><td>0</td><td>0</td><td>true</td><td>2021-12-18</td><td>650298</td><td>283</td></tr><tr><td>&quot;2021 Early Access Review I&#x27;ve …</td><td>23.200001</td><td>1</td><td>0</td><td>true</td><td>2021-12-21</td><td>295973</td><td>283</td></tr><tr><td>&quot;2021 Early Access Review Bruh …</td><td>144.0</td><td>1</td><td>0</td><td>true</td><td>2021-12-21</td><td>334389</td><td>283</td></tr></tbody></table></div>"
            ]
          },
          "metadata": {},
          "execution_count": 22
        }
      ]
    },
    {
      "cell_type": "markdown",
      "source": [
        "## Final functions"
      ],
      "metadata": {
        "id": "OA77iaSFCQh3"
      }
    },
    {
      "cell_type": "code",
      "source": [
        "import polars as pl\n",
        "from pathlib import Path\n",
        "from datetime import datetime\n",
        "import re\n",
        "\n",
        "\n",
        "def process_games_reviews() -> None:\n",
        "    raw_dir = Path(\"/content/data/raw\")\n",
        "    processed_dir = Path(\"/content/data/processed\")\n",
        "\n",
        "    df = pl.scan_csv(raw_dir / \"steam_game_reviews.csv\", infer_schema_length=10000)\n",
        "    df = df.with_columns(\n",
        "        pl.col(\"hours_played\").str.replace_all(\",\", \"\").cast(pl.Float32),\n",
        "        pl.col([\"helpful\", \"funny\"]).str.replace_all(\",\", \"\").cast(pl.Int64),\n",
        "        pl.when(pl.col(\"recommendation\") == \"Recommended\")\n",
        "        .then(True)\n",
        "        .otherwise(False)\n",
        "        .alias(\"recommendation\"),\n",
        "        pl.when(\n",
        "            ~(\n",
        "                (pl.col(\"date\").str.contains(r\"\\w+ \\d{1,2},\\s\\d{4}\"))\n",
        "                | pl.col(\"date\").str.contains(r\"\\d{1,2} \\w+,\\s\\d{4}\")\n",
        "            )\n",
        "        )\n",
        "        .then(pl.concat_str([pl.col(\"date\"), pl.lit(\", \" + str(datetime.now().year))]))\n",
        "        .otherwise(pl.col(\"date\"))\n",
        "        .alias(\"date\"),\n",
        "        pl.when(pl.col(\"username\").str.contains(\"\\n\"))\n",
        "        .then(pl.col(\"username\").str.extract(r\"^(.*?)\\n\"))\n",
        "        .otherwise(pl.col(\"username\").fill_null(\"anonymous\")),\n",
        "    )\n",
        "    df = df.with_columns(\n",
        "        pl.when(pl.col(\"date\").str.contains(r\"\\w+\\s\\d{1,2},\\s\\d{4}\"))\n",
        "        .then(pl.col(\"date\").str.to_date(\"%B %d, %Y\", strict=False))\n",
        "        .when(pl.col(\"date\").str.contains(r\"\\d{1,2}\\s\\w+,\\s\\d{4}\"))\n",
        "        .then(pl.col(\"date\").str.to_date(\"%d %B, %Y\", strict=False))\n",
        "    )\n",
        "\n",
        "    games_description_df = pl.scan_parquet(\n",
        "        processed_dir / \"games_description.parquet\"\n",
        "    ).select(\"game_id\", \"name\")\n",
        "\n",
        "    users_df = df.select(\"username\").unique().with_row_index(f\"user_id\", 1)\n",
        "\n",
        "    updated_reviews_df = (\n",
        "        df\n",
        "        # Join with users to get user_id\n",
        "        .join(users_df, left_on=\"username\", right_on=\"username\")\n",
        "        # Join with games to get game_id\n",
        "        .join(games_description_df, left_on=\"game_name\", right_on=\"name\")\n",
        "        # Drop columns replaced with IDs\n",
        "        .select(pl.all().exclude(\"game_name\", \"username\"))\n",
        "    )\n",
        "    updated_reviews_df.collect().write_parquet(processed_dir / \"games_reviews.parquet\")\n",
        "    users_df.collect().write_parquet(processed_dir / \"users_mapping.parquet\")\n",
        "\n",
        "process_games_reviews()"
      ],
      "metadata": {
        "id": "q2nEGh5KCQNA"
      },
      "execution_count": 24,
      "outputs": []
    },
    {
      "cell_type": "code",
      "source": [
        "!export HF_HUB_ENABLE_HF_TRANSFER=1\n",
        "!huggingface-cli login\n",
        "!huggingface-cli upload HangenYuu/Steam_Games_Review /content/data/raw ./raw --repo-type=dataset\n",
        "!huggingface-cli upload HangenYuu/Steam_Games_Review /content/data/processed ./processed --repo-type=dataset"
      ],
      "metadata": {
        "colab": {
          "base_uri": "https://localhost:8080/"
        },
        "id": "9KEqo6M6DppF",
        "outputId": "a8af4f5c-c6b6-4de3-c409-a832d29d828e"
      },
      "execution_count": 26,
      "outputs": [
        {
          "output_type": "stream",
          "name": "stdout",
          "text": [
            "\n",
            "    _|    _|  _|    _|    _|_|_|    _|_|_|  _|_|_|  _|      _|    _|_|_|      _|_|_|_|    _|_|      _|_|_|  _|_|_|_|\n",
            "    _|    _|  _|    _|  _|        _|          _|    _|_|    _|  _|            _|        _|    _|  _|        _|\n",
            "    _|_|_|_|  _|    _|  _|  _|_|  _|  _|_|    _|    _|  _|  _|  _|  _|_|      _|_|_|    _|_|_|_|  _|        _|_|_|\n",
            "    _|    _|  _|    _|  _|    _|  _|    _|    _|    _|    _|_|  _|    _|      _|        _|    _|  _|        _|\n",
            "    _|    _|    _|_|      _|_|_|    _|_|_|  _|_|_|  _|      _|    _|_|_|      _|        _|    _|    _|_|_|  _|_|_|_|\n",
            "\n",
            "    A token is already saved on your machine. Run `huggingface-cli whoami` to get more information or `huggingface-cli logout` if you want to log out.\n",
            "    Setting a new token will erase the existing one.\n",
            "    To log in, `huggingface_hub` requires a token generated from https://huggingface.co/settings/tokens .\n",
            "Enter your token (input will not be visible): \n",
            "Add token as git credential? (Y/n) Y\n",
            "Token is valid (permission: write).\n",
            "The token `Write Token` has been saved to /root/.cache/huggingface/stored_tokens\n",
            "\u001b[1m\u001b[31mCannot authenticate through git-credential as no helper is defined on your machine.\n",
            "You might have to re-authenticate when pushing to the Hugging Face Hub.\n",
            "Run the following command in your terminal in case you want to set the 'store' credential helper as default.\n",
            "\n",
            "git config --global credential.helper store\n",
            "\n",
            "Read https://git-scm.com/book/en/v2/Git-Tools-Credential-Storage for more details.\u001b[0m\n",
            "Token has not been saved to git credential helper.\n",
            "Your token has been saved to /root/.cache/huggingface/token\n",
            "Login successful.\n",
            "The current active token is: `Write Token`\n",
            "Consider using `hf_transfer` for faster uploads. This solution comes with some limitations. See https://huggingface.co/docs/huggingface_hub/hf_transfer for more details.\n",
            "Start hashing 3 files.\n",
            "Finished hashing 3 files.\n",
            "Removing 3 file(s) from commit that have not changed.\n",
            "No files have been modified since last commit. Skipping to prevent empty commit.\n",
            "https://huggingface.co/datasets/HangenYuu/Steam_Games_Review/tree/main/./raw\n",
            "Consider using `hf_transfer` for faster uploads. This solution comes with some limitations. See https://huggingface.co/docs/huggingface_hub/hf_transfer for more details.\n",
            "Start hashing 9 files.\n",
            "Finished hashing 9 files.\n",
            "Removing 9 file(s) from commit that have not changed.\n",
            "No files have been modified since last commit. Skipping to prevent empty commit.\n",
            "https://huggingface.co/datasets/HangenYuu/Steam_Games_Review/tree/main/./processed\n"
          ]
        }
      ]
    },
    {
      "cell_type": "markdown",
      "source": [
        "# Ranking table\n",
        "This table is very simple."
      ],
      "metadata": {
        "id": "f5_bksiQDnq9"
      }
    },
    {
      "cell_type": "code",
      "source": [
        "import polars as pl\n",
        "from pathlib import Path\n",
        "\n",
        "\n",
        "def process_games_ranking() -> None:\n",
        "    raw_dir = Path(\"/content/data/raw\")\n",
        "    processed_dir = Path(\"/content/data/processed\")\n",
        "\n",
        "    genre_dimension_df = pl.scan_parquet(processed_dir / \"genre_dimension.parquet\")\n",
        "    games_description_df = pl.scan_parquet(processed_dir / \"games_description.parquet\").select(\"game_id\", \"name\")\n",
        "\n",
        "    schema = pl.Schema(\n",
        "        {\n",
        "            \"game_name\": pl.String(),\n",
        "            \"genre\": pl.String(),\n",
        "            \"rank_type\": pl.String(),\n",
        "            \"rank\": pl.UInt8(),\n",
        "        }\n",
        "    )\n",
        "\n",
        "    df = pl.scan_csv(raw_dir / \"games_ranking.csv\", schema=schema)\n",
        "    rank_df = df.select(\"rank_type\").unique().with_row_index(\"rank_type_id\", 1)\n",
        "\n",
        "    df = (\n",
        "        df.join(\n",
        "            games_description_df,\n",
        "            left_on=\"game_name\",\n",
        "            right_on=\"name\",\n",
        "        )\n",
        "        .join(genre_dimension_df, left_on=\"genre\", right_on=\"genre\")\n",
        "        .join(rank_df, left_on=\"rank_type\", right_on=\"rank_type\")\n",
        "    )\n",
        "\n",
        "    df.select(\n",
        "        pl.all().exclude(\"game_name\", \"genre\", \"rank_type\")\n",
        "    ).collect().write_parquet(processed_dir / \"games_ranking.parquet\")\n",
        "    rank_df.collect().write_parquet(processed_dir / \"rank_dimension.parquet\")\n",
        "\n",
        "process_games_ranking()"
      ],
      "metadata": {
        "id": "qxvGQeJHD3G1"
      },
      "execution_count": 36,
      "outputs": []
    },
    {
      "cell_type": "code",
      "source": [
        "pl.read_parquet(processed_dir / \"games_ranking.parquet\")"
      ],
      "metadata": {
        "colab": {
          "base_uri": "https://localhost:8080/",
          "height": 463
        },
        "id": "F9eMLRTIHtI3",
        "outputId": "f7c29e8d-abb8-4d78-bd31-157dc928f7a8"
      },
      "execution_count": 37,
      "outputs": [
        {
          "output_type": "execute_result",
          "data": {
            "text/plain": [
              "shape: (438, 4)\n",
              "┌──────┬─────────┬──────────┬──────────────┐\n",
              "│ rank ┆ game_id ┆ genre_id ┆ rank_type_id │\n",
              "│ ---  ┆ ---     ┆ ---      ┆ ---          │\n",
              "│ u8   ┆ u32     ┆ u32      ┆ u32          │\n",
              "╞══════╪═════════╪══════════╪══════════════╡\n",
              "│ 1    ┆ 2       ┆ 16       ┆ 2            │\n",
              "│ 2    ┆ 3       ┆ 16       ┆ 2            │\n",
              "│ 3    ┆ 4       ┆ 16       ┆ 2            │\n",
              "│ 4    ┆ 1       ┆ 16       ┆ 2            │\n",
              "│ 5    ┆ 5       ┆ 16       ┆ 2            │\n",
              "│ …    ┆ …       ┆ …        ┆ …            │\n",
              "│ 36   ┆ 223     ┆ 295      ┆ 1            │\n",
              "│ 37   ┆ 113     ┆ 295      ┆ 1            │\n",
              "│ 38   ┆ 189     ┆ 295      ┆ 1            │\n",
              "│ 39   ┆ 224     ┆ 295      ┆ 1            │\n",
              "│ 40   ┆ 100     ┆ 295      ┆ 1            │\n",
              "└──────┴─────────┴──────────┴──────────────┘"
            ],
            "text/html": [
              "<div><style>\n",
              ".dataframe > thead > tr,\n",
              ".dataframe > tbody > tr {\n",
              "  text-align: right;\n",
              "  white-space: pre-wrap;\n",
              "}\n",
              "</style>\n",
              "<small>shape: (438, 4)</small><table border=\"1\" class=\"dataframe\"><thead><tr><th>rank</th><th>game_id</th><th>genre_id</th><th>rank_type_id</th></tr><tr><td>u8</td><td>u32</td><td>u32</td><td>u32</td></tr></thead><tbody><tr><td>1</td><td>2</td><td>16</td><td>2</td></tr><tr><td>2</td><td>3</td><td>16</td><td>2</td></tr><tr><td>3</td><td>4</td><td>16</td><td>2</td></tr><tr><td>4</td><td>1</td><td>16</td><td>2</td></tr><tr><td>5</td><td>5</td><td>16</td><td>2</td></tr><tr><td>&hellip;</td><td>&hellip;</td><td>&hellip;</td><td>&hellip;</td></tr><tr><td>36</td><td>223</td><td>295</td><td>1</td></tr><tr><td>37</td><td>113</td><td>295</td><td>1</td></tr><tr><td>38</td><td>189</td><td>295</td><td>1</td></tr><tr><td>39</td><td>224</td><td>295</td><td>1</td></tr><tr><td>40</td><td>100</td><td>295</td><td>1</td></tr></tbody></table></div>"
            ]
          },
          "metadata": {},
          "execution_count": 37
        }
      ]
    },
    {
      "cell_type": "code",
      "source": [
        "!export HF_HUB_ENABLE_HF_TRANSFER=1\n",
        "!huggingface-cli login\n",
        "!huggingface-cli upload HangenYuu/Steam_Games_Review /content/data/raw ./raw --repo-type=dataset\n",
        "!huggingface-cli upload HangenYuu/Steam_Games_Review /content/data/processed ./processed --repo-type=dataset"
      ],
      "metadata": {
        "colab": {
          "base_uri": "https://localhost:8080/"
        },
        "id": "2nIyqzz3IG1o",
        "outputId": "a3490af1-44f0-42df-c550-3658f22ef315"
      },
      "execution_count": 38,
      "outputs": [
        {
          "output_type": "stream",
          "name": "stdout",
          "text": [
            "\n",
            "    _|    _|  _|    _|    _|_|_|    _|_|_|  _|_|_|  _|      _|    _|_|_|      _|_|_|_|    _|_|      _|_|_|  _|_|_|_|\n",
            "    _|    _|  _|    _|  _|        _|          _|    _|_|    _|  _|            _|        _|    _|  _|        _|\n",
            "    _|_|_|_|  _|    _|  _|  _|_|  _|  _|_|    _|    _|  _|  _|  _|  _|_|      _|_|_|    _|_|_|_|  _|        _|_|_|\n",
            "    _|    _|  _|    _|  _|    _|  _|    _|    _|    _|    _|_|  _|    _|      _|        _|    _|  _|        _|\n",
            "    _|    _|    _|_|      _|_|_|    _|_|_|  _|_|_|  _|      _|    _|_|_|      _|        _|    _|    _|_|_|  _|_|_|_|\n",
            "\n",
            "    A token is already saved on your machine. Run `huggingface-cli whoami` to get more information or `huggingface-cli logout` if you want to log out.\n",
            "    Setting a new token will erase the existing one.\n",
            "    To log in, `huggingface_hub` requires a token generated from https://huggingface.co/settings/tokens .\n",
            "Enter your token (input will not be visible): \n",
            "Add token as git credential? (Y/n) Y\n",
            "Token is valid (permission: write).\n",
            "The token `Write Token` has been saved to /root/.cache/huggingface/stored_tokens\n",
            "\u001b[1m\u001b[31mCannot authenticate through git-credential as no helper is defined on your machine.\n",
            "You might have to re-authenticate when pushing to the Hugging Face Hub.\n",
            "Run the following command in your terminal in case you want to set the 'store' credential helper as default.\n",
            "\n",
            "git config --global credential.helper store\n",
            "\n",
            "Read https://git-scm.com/book/en/v2/Git-Tools-Credential-Storage for more details.\u001b[0m\n",
            "Token has not been saved to git credential helper.\n",
            "Your token has been saved to /root/.cache/huggingface/token\n",
            "Login successful.\n",
            "The current active token is: `Write Token`\n",
            "Consider using `hf_transfer` for faster uploads. This solution comes with some limitations. See https://huggingface.co/docs/huggingface_hub/hf_transfer for more details.\n",
            "Start hashing 3 files.\n",
            "Finished hashing 3 files.\n",
            "Removing 3 file(s) from commit that have not changed.\n",
            "No files have been modified since last commit. Skipping to prevent empty commit.\n",
            "https://huggingface.co/datasets/HangenYuu/Steam_Games_Review/tree/main/./raw\n",
            "Consider using `hf_transfer` for faster uploads. This solution comes with some limitations. See https://huggingface.co/docs/huggingface_hub/hf_transfer for more details.\n",
            "Start hashing 11 files.\n",
            "Finished hashing 11 files.\n",
            "games_ranking.parquet:   0% 0.00/3.10k [00:00<?, ?B/s]\n",
            "Upload 2 LFS files:   0% 0/2 [00:00<?, ?it/s]\u001b[A\n",
            "\n",
            "rank_dimension.parquet: 100% 875/875 [00:00<00:00, 10.9kB/s]\n",
            "games_ranking.parquet: 100% 3.10k/3.10k [00:00<00:00, 20.0kB/s]\n",
            "\n",
            "Upload 2 LFS files: 100% 2/2 [00:00<00:00,  6.85it/s]\n",
            "Removing 9 file(s) from commit that have not changed.\n",
            "https://huggingface.co/datasets/HangenYuu/Steam_Games_Review/tree/main/./processed\n"
          ]
        }
      ]
    }
  ]
}