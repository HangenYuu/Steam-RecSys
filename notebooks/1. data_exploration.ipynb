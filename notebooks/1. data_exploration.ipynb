{
 "cells": [
  {
   "cell_type": "markdown",
   "metadata": {},
   "source": [
    "The objective of the final data pipeline is parsing each column of the CSV file into the correct data type and save the new data as Parquet file."
   ]
  },
  {
   "cell_type": "markdown",
   "metadata": {},
   "source": [
    "# 1. `games_description.csv`\n",
    "\n",
    "The file wraps all columns as a string and have many columns with nested data types. Attempt to parse the data type from the start did not work. It's a challenge to process the column, which I actually welcomed 🤗.\n",
    "\n",
    "Schema:\n",
    "```\n",
    "name: string\n",
    "short_description: string\n",
    "long_description: string\n",
    "genres: object (array[string])\n",
    "minimum_system_requirement: object (struct[string])\n",
    "recommend_system_requirement: object (struct[string])\n",
    "release_date: date\n",
    "developer: object (array[string])\n",
    "publisher: object (array[string])\n",
    "overall_player_rating: categorical\n",
    "number_of_reviews_from_purchased_people: int32\n",
    "number_of_english_reviews: int32\n",
    "link: string\n",
    "```"
   ]
  },
  {
   "cell_type": "code",
   "execution_count": 5,
   "metadata": {},
   "outputs": [
    {
     "data": {
      "image/svg+xml": [
       "<svg xmlns=\"http://www.w3.org/2000/svg\" xmlns:xlink=\"http://www.w3.org/1999/xlink\" width=\"5716pt\" height=\"408pt\" viewBox=\"0.00 0.00 5716.00 408.00\">\n",
       "<g id=\"graph0\" class=\"graph\" transform=\"scale(1 1) rotate(0) translate(4 404)\">\n",
       "<title>polars_query</title>\n",
       "<polygon fill=\"white\" stroke=\"transparent\" points=\"-4,4 -4,-404 5712,-404 5712,4 -4,4\"/>\n",
       "<!-- p1 -->\n",
       "<g id=\"node1\" class=\"node\">\n",
       "<title>p1</title>\n",
       "<polygon fill=\"none\" stroke=\"black\" points=\"3043,-400 2665,-400 2665,-362 3043,-362 3043,-400\"/>\n",
       "<text text-anchor=\"middle\" x=\"2854\" y=\"-384.8\" font-family=\"Times,serif\" font-size=\"14.00\">simple π 13/14</text>\n",
       "<text text-anchor=\"middle\" x=\"2854\" y=\"-369.8\" font-family=\"Times,serif\" font-size=\"14.00\">[&quot;name&quot;, &quot;short_description&quot;, ... 11 other columns]</text>\n",
       "</g>\n",
       "<!-- p2 -->\n",
       "<g id=\"node2\" class=\"node\">\n",
       "<title>p2</title>\n",
       "<polygon fill=\"none\" stroke=\"black\" points=\"4491.5,-326 1216.5,-326 1216.5,-290 4491.5,-290 4491.5,-326\"/>\n",
       "<text text-anchor=\"middle\" x=\"2854\" y=\"-304.3\" font-family=\"Times,serif\" font-size=\"14.00\">WITH COLUMNS [when(col(&quot;__POLARS_CSER_0x997c45506aff6681&quot;)).then(String(Not enough data)).otherwise(col(&quot;overall_player_rating&quot;)).strict_cast(Categorical(None, Lexical)).alias(&quot;overall_player_rating&quot;), when(col(&quot;__POLARS_CSER_0x997c45506aff6681&quot;)).then(col(&quot;overall_player_rating&quot;).str.extract([String((d+))]).strict_cast(Int32)).otherwise(col(&quot;number_of_reviews_from_purchased_people&quot;)).alias(&quot;number_of_reviews_from_purchased_people&quot;)]</text>\n",
       "</g>\n",
       "<!-- p1&#45;&#45;p2 -->\n",
       "<g id=\"edge1\" class=\"edge\">\n",
       "<title>p1--p2</title>\n",
       "<path fill=\"none\" stroke=\"black\" d=\"M2854,-361.72C2854,-350.7 2854,-336.78 2854,-326\"/>\n",
       "</g>\n",
       "<!-- p3 -->\n",
       "<g id=\"node3\" class=\"node\">\n",
       "<title>p3</title>\n",
       "<polygon fill=\"none\" stroke=\"black\" points=\"3311,-254 2397,-254 2397,-218 3311,-218 3311,-254\"/>\n",
       "<text text-anchor=\"middle\" x=\"2854\" y=\"-232.3\" font-family=\"Times,serif\" font-size=\"14.00\">WITH COLUMNS [col(&quot;number_of_reviews_from_purchased_people&quot;).is_null().alias(&quot;__POLARS_CSER_0x997c45506aff6681&quot;)]</text>\n",
       "</g>\n",
       "<!-- p2&#45;&#45;p3 -->\n",
       "<g id=\"edge2\" class=\"edge\">\n",
       "<title>p2--p3</title>\n",
       "<path fill=\"none\" stroke=\"black\" d=\"M2854,-289.7C2854,-278.85 2854,-264.92 2854,-254.1\"/>\n",
       "</g>\n",
       "<!-- p4 -->\n",
       "<g id=\"node4\" class=\"node\">\n",
       "<title>p4</title>\n",
       "<polygon fill=\"none\" stroke=\"black\" points=\"5708,-182 0,-182 0,-146 5708,-146 5708,-182\"/>\n",
       "<text text-anchor=\"middle\" x=\"2854\" y=\"-160.3\" font-family=\"Times,serif\" font-size=\"14.00\">WITH COLUMNS [col(&quot;genres&quot;).str.replace_many([Series, String()]).str.split([String(, )]), col(&quot;number_of_english_reviews&quot;).str.replace([String(,), String()]).strict_cast(Int32), col(&quot;minimum_system_requirement&quot;).str.replace_many([Series, String()]).str.split([String(, )]).map_list(), col(&quot;recommend_system_requirement&quot;).str.replace_many([Series, String()]).str.split([String(, )]).map_list(), col(&quot;developer&quot;).str.replace_many([Series, String()]).str.split([String(, )]), col(&quot;publisher&quot;).str.replace_many([Series, String()]).str.split([String(, )]), when(col(&quot;release_date&quot;).str.contains([String(d{1,2} w{3}, d{4})])).then(col(&quot;release_date&quot;).str.strptime([String(raise)])).otherwise(col(&quot;release_date&quot;).str.strptime([String(raise)])).alias(&quot;release_date&quot;), col(&quot;number_of_reviews_from_purchased_people&quot;).map_list()]</text>\n",
       "</g>\n",
       "<!-- p3&#45;&#45;p4 -->\n",
       "<g id=\"edge3\" class=\"edge\">\n",
       "<title>p3--p4</title>\n",
       "<path fill=\"none\" stroke=\"black\" d=\"M2854,-217.7C2854,-206.85 2854,-192.92 2854,-182.1\"/>\n",
       "</g>\n",
       "<!-- p5 -->\n",
       "<g id=\"node5\" class=\"node\">\n",
       "<title>p5</title>\n",
       "<polygon fill=\"none\" stroke=\"black\" points=\"2940.5,-110 2767.5,-110 2767.5,-74 2940.5,-74 2940.5,-110\"/>\n",
       "<text text-anchor=\"middle\" x=\"2854\" y=\"-88.3\" font-family=\"Times,serif\" font-size=\"14.00\">SLICE offset: 0; len: 5</text>\n",
       "</g>\n",
       "<!-- p4&#45;&#45;p5 -->\n",
       "<g id=\"edge4\" class=\"edge\">\n",
       "<title>p4--p5</title>\n",
       "<path fill=\"none\" stroke=\"black\" d=\"M2854,-145.7C2854,-134.85 2854,-120.92 2854,-110.1\"/>\n",
       "</g>\n",
       "<!-- p6 -->\n",
       "<g id=\"node6\" class=\"node\">\n",
       "<title>p6</title>\n",
       "<polygon fill=\"none\" stroke=\"black\" points=\"3061.5,-38 2646.5,-38 2646.5,0 3061.5,0 3061.5,-38\"/>\n",
       "<text text-anchor=\"middle\" x=\"2854\" y=\"-22.8\" font-family=\"Times,serif\" font-size=\"14.00\">Csv SCAN [../data_pipeline/data/games_description.csv]</text>\n",
       "<text text-anchor=\"middle\" x=\"2854\" y=\"-7.8\" font-family=\"Times,serif\" font-size=\"14.00\">π */13;</text>\n",
       "</g>\n",
       "<!-- p5&#45;&#45;p6 -->\n",
       "<g id=\"edge5\" class=\"edge\">\n",
       "<title>p5--p6</title>\n",
       "<path fill=\"none\" stroke=\"black\" d=\"M2854,-73.81C2854,-62.98 2854,-49.01 2854,-38.02\"/>\n",
       "</g>\n",
       "</g>\n",
       "</svg>"
      ],
      "text/plain": [
       "<IPython.core.display.SVG object>"
      ]
     },
     "metadata": {},
     "output_type": "display_data"
    }
   ],
   "source": [
    "import polars as pl\n",
    "from pathlib import Path\n",
    "import re\n",
    "\n",
    "local_dir = Path(\"../data_pipeline/data\")\n",
    "\n",
    "\n",
    "def parse_reviews(value):\n",
    "    if \"%\" in value:\n",
    "        # Extract percentage and total number\n",
    "        match = re.search(r\"(\\d+)% of ([\\d,]+)\", value)\n",
    "        if match:\n",
    "            percentage = int(match.group(1))\n",
    "            total = int(match.group(2).replace(\",\", \"\"))\n",
    "            return int((percentage / 100) * total)\n",
    "    else:\n",
    "        # Extract the number directly\n",
    "        match = re.search(r\"\\(([\\d,]+)\\)\", value)\n",
    "        if match:\n",
    "            return int(match.group(1).replace(\",\", \"\"))\n",
    "\n",
    "\n",
    "def parse_system_requirements(requirements_list):\n",
    "    result = {}\n",
    "    for item in requirements_list:\n",
    "        if \":\" in item:\n",
    "            key, value = item.split(\":\")[:2]\n",
    "            result[key.strip()] = value.strip()\n",
    "    return result\n",
    "\n",
    "\n",
    "df = pl.scan_csv(local_dir / \"games_description.csv\")\n",
    "df = df.with_columns(\n",
    "    pl.col(\"genres\").str.replace_many([\"]\", \"'\", \"[\"], \"\").str.split(\", \"),\n",
    "    pl.col(\"number_of_english_reviews\").str.replace_all(\",\", \"\").cast(pl.Int32),\n",
    "    pl.col([\"minimum_system_requirement\", \"recommend_system_requirement\"])\n",
    "    .str.replace_many([\"]\", \"'\", \"[\"], \"\")\n",
    "    .str.split(\", \")\n",
    "    .map_elements(parse_system_requirements, return_dtype=pl.Struct),\n",
    "    pl.col([\"developer\", \"publisher\"])\n",
    "    .str.replace_many([\"]\", \"'\", \"[\"], \"\")\n",
    "    .str.split(\", \"),\n",
    "    pl.when(pl.col(\"release_date\").str.contains(r\"\\d{1,2} \\w{3}, \\d{4}\"))\n",
    "    .then(pl.col(\"release_date\").str.to_date(\"%d %b, %Y\", strict=False))\n",
    "    .otherwise(pl.col(\"release_date\").str.to_date(\"%b %Y\", strict=False))\n",
    "    .alias(\"release_date\"),\n",
    "    pl.col(\"number_of_reviews_from_purchased_people\").map_elements(\n",
    "        parse_reviews, return_dtype=pl.Int32\n",
    "    ),\n",
    ")\n",
    "\n",
    "df = df.with_columns(\n",
    "    pl.when(pl.col(\"number_of_reviews_from_purchased_people\").is_null())\n",
    "    .then(pl.lit(\"Not enough data\"))\n",
    "    .otherwise(pl.col(\"overall_player_rating\"))\n",
    "    .cast(pl.Categorical(\"lexical\"))\n",
    "    .alias(\"overall_player_rating\"),\n",
    "    pl.when(pl.col(\"number_of_reviews_from_purchased_people\").is_null())\n",
    "    .then(pl.col(\"overall_player_rating\").str.extract(r\"(\\d+)\").cast(pl.Int32))\n",
    "    .otherwise(pl.col(\"number_of_reviews_from_purchased_people\"))\n",
    "    .alias(\"number_of_reviews_from_purchased_people\"),\n",
    ")\n",
    "\n",
    "df.head().show_graph()"
   ]
  },
  {
   "cell_type": "code",
   "execution_count": 25,
   "metadata": {},
   "outputs": [
    {
     "data": {
      "text/html": [
       "<div><style>\n",
       ".dataframe > thead > tr,\n",
       ".dataframe > tbody > tr {\n",
       "  text-align: right;\n",
       "  white-space: pre-wrap;\n",
       "}\n",
       "</style>\n",
       "<small>shape: (8, 1)</small><table border=\"1\" class=\"dataframe\"><thead><tr><th>overall_player_rating</th></tr><tr><td>cat</td></tr></thead><tbody><tr><td>&quot;Overwhelmingly Positive&quot;</td></tr><tr><td>&quot;Very Positive&quot;</td></tr><tr><td>&quot;Mixed&quot;</td></tr><tr><td>&quot;Mostly Positive&quot;</td></tr><tr><td>&quot;Mostly Negative&quot;</td></tr><tr><td>&quot;Very Negative&quot;</td></tr><tr><td>&quot;Not enough data&quot;</td></tr><tr><td>&quot;Positive&quot;</td></tr></tbody></table></div>"
      ],
      "text/plain": [
       "shape: (8, 1)\n",
       "┌─────────────────────────┐\n",
       "│ overall_player_rating   │\n",
       "│ ---                     │\n",
       "│ cat                     │\n",
       "╞═════════════════════════╡\n",
       "│ Overwhelmingly Positive │\n",
       "│ Very Positive           │\n",
       "│ Mixed                   │\n",
       "│ Mostly Positive         │\n",
       "│ Mostly Negative         │\n",
       "│ Very Negative           │\n",
       "│ Not enough data         │\n",
       "│ Positive                │\n",
       "└─────────────────────────┘"
      ]
     },
     "execution_count": 25,
     "metadata": {},
     "output_type": "execute_result"
    }
   ],
   "source": [
    "df.select(\"overall_player_rating\").unique().head(11).collect()"
   ]
  },
  {
   "cell_type": "markdown",
   "metadata": {},
   "source": [
    "# 2. `games_ranking.csv`\n",
    "\n",
    "The file is significantly easier to parse.\n",
    "\n",
    "Schema:\n",
    "```\n",
    "game_name: string\n",
    "genre: categorical\n",
    "rank_type: categorical\n",
    "rank: uint8\n",
    "```"
   ]
  },
  {
   "cell_type": "code",
   "execution_count": 2,
   "metadata": {},
   "outputs": [
    {
     "data": {
      "text/html": [
       "<div><style>\n",
       ".dataframe > thead > tr,\n",
       ".dataframe > tbody > tr {\n",
       "  text-align: right;\n",
       "  white-space: pre-wrap;\n",
       "}\n",
       "</style>\n",
       "<small>shape: (1, 4)</small><table border=\"1\" class=\"dataframe\"><thead><tr><th>game_name</th><th>genre</th><th>rank_type</th><th>rank</th></tr><tr><td>u32</td><td>u32</td><td>u32</td><td>u32</td></tr></thead><tbody><tr><td>0</td><td>0</td><td>0</td><td>0</td></tr></tbody></table></div>"
      ],
      "text/plain": [
       "shape: (1, 4)\n",
       "┌───────────┬───────┬───────────┬──────┐\n",
       "│ game_name ┆ genre ┆ rank_type ┆ rank │\n",
       "│ ---       ┆ ---   ┆ ---       ┆ ---  │\n",
       "│ u32       ┆ u32   ┆ u32       ┆ u32  │\n",
       "╞═══════════╪═══════╪═══════════╪══════╡\n",
       "│ 0         ┆ 0     ┆ 0         ┆ 0    │\n",
       "└───────────┴───────┴───────────┴──────┘"
      ]
     },
     "execution_count": 2,
     "metadata": {},
     "output_type": "execute_result"
    }
   ],
   "source": [
    "import polars as pl\n",
    "from pathlib import Path\n",
    "\n",
    "local_dir = Path(\"../data_pipeline/data\")\n",
    "schema = pl.Schema(\n",
    "    {\n",
    "        \"game_name\": pl.String(),\n",
    "        \"genre\": pl.Categorical(),\n",
    "        \"rank_type\": pl.Categorical(),\n",
    "        \"rank\": pl.UInt8(),\n",
    "    }\n",
    ")\n",
    "\n",
    "df = pl.read_csv(local_dir / \"games_ranking.csv\", schema=schema)\n",
    "\n",
    "df.select(pl.all().is_null().sum())"
   ]
  },
  {
   "cell_type": "markdown",
   "metadata": {},
   "source": [
    "# 3. `steam_game_reviews.csv`\n",
    "\n",
    "The file is the most important: our actual game review dataset. The most important thing is to parse the reviews into a suitable format for the recommendation system.\n",
    "\n",
    "Schema:\n",
    "```\n",
    "\n",
    "```"
   ]
  },
  {
   "cell_type": "code",
   "execution_count": 24,
   "metadata": {},
   "outputs": [
    {
     "data": {
      "image/svg+xml": [
       "<svg xmlns=\"http://www.w3.org/2000/svg\" xmlns:xlink=\"http://www.w3.org/1999/xlink\" width=\"4281pt\" height=\"207pt\" viewBox=\"0.00 0.00 4281.00 207.00\">\n",
       "<g id=\"graph0\" class=\"graph\" transform=\"scale(1 1) rotate(0) translate(4 203)\">\n",
       "<title>polars_query</title>\n",
       "<polygon fill=\"white\" stroke=\"transparent\" points=\"-4,4 -4,-203 4277,-203 4277,4 -4,4\"/>\n",
       "<!-- p1 -->\n",
       "<g id=\"node1\" class=\"node\">\n",
       "<title>p1</title>\n",
       "<polygon fill=\"none\" stroke=\"black\" points=\"3116,-199 1157,-199 1157,-163 3116,-163 3116,-199\"/>\n",
       "<text text-anchor=\"middle\" x=\"2136.5\" y=\"-177.3\" font-family=\"Times,serif\" font-size=\"14.00\">WITH COLUMNS [when(col(&quot;date&quot;).str.contains([String(w+sd{1,2},sd{4})])).then(col(&quot;date&quot;).str.strptime([String(raise)])).otherwise(when(col(&quot;date&quot;).str.contains([String(d{1,2}sw+,sd{4})])).then(col(&quot;date&quot;).str.strptime([String(raise)])).otherwise(null.strict_cast(Date)))]</text>\n",
       "</g>\n",
       "<!-- p2 -->\n",
       "<g id=\"node2\" class=\"node\">\n",
       "<title>p2</title>\n",
       "<polygon fill=\"none\" stroke=\"black\" points=\"4273,-127 0,-127 0,-74 4273,-74 4273,-127\"/>\n",
       "<text text-anchor=\"middle\" x=\"2136.5\" y=\"-111.8\" font-family=\"Times,serif\" font-size=\"14.00\">WITH COLUMNS [col(&quot;hours_played&quot;).str.replace([String(,), String()]).strict_cast(Float32), col(&quot;helpful&quot;).str.replace([String(,), String()]).strict_cast(Int64), col(&quot;funny&quot;).str.replace([String(,), String()]).strict_cast(Int64), when([(col(&quot;recommendation&quot;)) == (String(Recommended))]).then(true).otherwise(false).alias(&quot;recommendation&quot;), when([(col(&quot;date&quot;).str.contains([String(w+ d{1,2},sd{4})]).not()) &amp; (col(&quot;date&quot;).str.contains([String(d{1,2} w+,sd{4})]).not())]).then(col(&quot;date&quot;).str.concat_horizontal([String(, 2024)])).otherwise(col(&quot;date&quot;)).alias(&quot;date&quot;), when(col(&quot;username&quot;).str.contains([String(</text>\n",
       "<text text-anchor=\"middle\" x=\"2136.5\" y=\"-96.8\" font-family=\"Times,serif\" font-size=\"14.00\">)])).then(col(&quot;username&quot;).str.extract([String(^(.*?)</text>\n",
       "<text text-anchor=\"middle\" x=\"2136.5\" y=\"-81.8\" font-family=\"Times,serif\" font-size=\"14.00\">)])).otherwise(col(&quot;username&quot;).fill_null([String(anonymous)]))]</text>\n",
       "</g>\n",
       "<!-- p1&#45;&#45;p2 -->\n",
       "<g id=\"edge1\" class=\"edge\">\n",
       "<title>p1--p2</title>\n",
       "<path fill=\"none\" stroke=\"black\" d=\"M2136.5,-162.97C2136.5,-152.51 2136.5,-138.9 2136.5,-127.16\"/>\n",
       "</g>\n",
       "<!-- p3 -->\n",
       "<g id=\"node3\" class=\"node\">\n",
       "<title>p3</title>\n",
       "<polygon fill=\"none\" stroke=\"black\" points=\"2353,-38 1920,-38 1920,0 2353,0 2353,-38\"/>\n",
       "<text text-anchor=\"middle\" x=\"2136.5\" y=\"-22.8\" font-family=\"Times,serif\" font-size=\"14.00\">Csv SCAN [../data_pipeline/data/steam_game_reviews.csv]</text>\n",
       "<text text-anchor=\"middle\" x=\"2136.5\" y=\"-7.8\" font-family=\"Times,serif\" font-size=\"14.00\">π */8;</text>\n",
       "</g>\n",
       "<!-- p2&#45;&#45;p3 -->\n",
       "<g id=\"edge2\" class=\"edge\">\n",
       "<title>p2--p3</title>\n",
       "<path fill=\"none\" stroke=\"black\" d=\"M2136.5,-73.91C2136.5,-62.29 2136.5,-48.81 2136.5,-38.24\"/>\n",
       "</g>\n",
       "</g>\n",
       "</svg>"
      ],
      "text/plain": [
       "<IPython.core.display.SVG object>"
      ]
     },
     "metadata": {},
     "output_type": "display_data"
    }
   ],
   "source": [
    "import polars as pl\n",
    "from pathlib import Path\n",
    "from datetime import datetime\n",
    "\n",
    "local_dir = Path(\"../data_pipeline/data\")\n",
    "\n",
    "df = pl.scan_csv(local_dir / \"steam_game_reviews.csv\", infer_schema_length=10000)\n",
    "# df = df.drop_nulls(subset=pl.col(\"username\"))\n",
    "df = df.with_columns(\n",
    "    pl.col(\"hours_played\").str.replace_all(\",\", \"\").cast(pl.Float32),\n",
    "    pl.col([\"helpful\", \"funny\"]).str.replace_all(\",\", \"\").cast(pl.Int64),\n",
    "    pl.when(pl.col(\"recommendation\") == \"Recommended\")\n",
    "    .then(True)\n",
    "    .otherwise(False)\n",
    "    .alias(\"recommendation\"),\n",
    "    pl.when(\n",
    "        ~(\n",
    "            (pl.col(\"date\").str.contains(r\"\\w+ \\d{1,2},\\s\\d{4}\"))\n",
    "            | pl.col(\"date\").str.contains(r\"\\d{1,2} \\w+,\\s\\d{4}\")\n",
    "        )\n",
    "    )\n",
    "    .then(pl.concat_str([pl.col(\"date\"), pl.lit(\", \" + str(datetime.now().year))]))\n",
    "    .otherwise(pl.col(\"date\"))\n",
    "    .alias(\"date\"),\n",
    "    pl.when(pl.col(\"username\").str.contains(\"\\n\"))\n",
    "    .then(pl.col(\"username\").str.extract(r\"^(.*?)\\n\"))\n",
    "    .otherwise(pl.col(\"username\").fill_null(\"anonymous\")),\n",
    ")\n",
    "df = df.with_columns(\n",
    "    pl.when(pl.col(\"date\").str.contains(r\"\\w+\\s\\d{1,2},\\s\\d{4}\"))\n",
    "    .then(pl.col(\"date\").str.to_date(\"%B %d, %Y\", strict=False))\n",
    "    .when(pl.col(\"date\").str.contains(r\"\\d{1,2}\\s\\w+,\\s\\d{4}\"))\n",
    "    .then(pl.col(\"date\").str.to_date(\"%d %B, %Y\", strict=False))\n",
    ")\n",
    "\n",
    "df.show_graph(optimized=True)"
   ]
  },
  {
   "cell_type": "code",
   "execution_count": 2,
   "metadata": {},
   "outputs": [
    {
     "data": {
      "text/html": [
       "<div><style>\n",
       ".dataframe > thead > tr,\n",
       ".dataframe > tbody > tr {\n",
       "  text-align: right;\n",
       "  white-space: pre-wrap;\n",
       "}\n",
       "</style>\n",
       "<small>shape: (0, 8)</small><table border=\"1\" class=\"dataframe\"><thead><tr><th>review</th><th>hours_played</th><th>helpful</th><th>funny</th><th>recommendation</th><th>date</th><th>game_name</th><th>username</th></tr><tr><td>str</td><td>f32</td><td>i64</td><td>i64</td><td>bool</td><td>str</td><td>str</td><td>str</td></tr></thead><tbody></tbody></table></div>"
      ],
      "text/plain": [
       "shape: (0, 8)\n",
       "┌────────┬──────────────┬─────────┬───────┬────────────────┬──────┬───────────┬──────────┐\n",
       "│ review ┆ hours_played ┆ helpful ┆ funny ┆ recommendation ┆ date ┆ game_name ┆ username │\n",
       "│ ---    ┆ ---          ┆ ---     ┆ ---   ┆ ---            ┆ ---  ┆ ---       ┆ ---      │\n",
       "│ str    ┆ f32          ┆ i64     ┆ i64   ┆ bool           ┆ str  ┆ str       ┆ str      │\n",
       "╞════════╪══════════════╪═════════╪═══════╪════════════════╪══════╪═══════════╪══════════╡\n",
       "└────────┴──────────────┴─────────┴───────┴────────────────┴──────┴───────────┴──────────┘"
      ]
     },
     "execution_count": 2,
     "metadata": {},
     "output_type": "execute_result"
    }
   ],
   "source": [
    "df.filter(pl.col(\"username\").is_null()).collect()"
   ]
  },
  {
   "cell_type": "code",
   "execution_count": null,
   "metadata": {},
   "outputs": [],
   "source": [
    "# df.select(pl.col(\"date\").is_null().sum()).collect()\n",
    "\n",
    "# df.filter(\n",
    "#     pl.col(\"username\").str.contains_any(\n",
    "#         [\n",
    "#             \"САКАКОК\",\n",
    "#             \"Ryuzaki Ken\",\n",
    "#             \"zakheron\",\n",
    "#             \"toxic40\",\n",
    "#             \"MiddayEnglishman\",\n",
    "#             \"StarOutOfSpace\",\n",
    "#             \"galacticdude7\",\n",
    "#         ]\n",
    "#     )\n",
    "# ).collect()"
   ]
  }
 ],
 "metadata": {
  "kernelspec": {
   "display_name": "Python 3",
   "language": "python",
   "name": "python3"
  },
  "language_info": {
   "codemirror_mode": {
    "name": "ipython",
    "version": 3
   },
   "file_extension": ".py",
   "mimetype": "text/x-python",
   "name": "python",
   "nbconvert_exporter": "python",
   "pygments_lexer": "ipython3",
   "version": "3.12.1"
  }
 },
 "nbformat": 4,
 "nbformat_minor": 2
}
